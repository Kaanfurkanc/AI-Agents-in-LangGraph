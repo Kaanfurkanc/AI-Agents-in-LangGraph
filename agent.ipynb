{
 "cells": [
  {
   "cell_type": "code",
   "execution_count": 2,
   "metadata": {},
   "outputs": [],
   "source": [
    "from dotenv import load_dotenv, find_dotenv\n",
    "\n",
    "_ = load_dotenv(find_dotenv())"
   ]
  },
  {
   "cell_type": "code",
   "execution_count": 3,
   "metadata": {},
   "outputs": [],
   "source": [
    "from langgraph.graph import StateGraph, END\n",
    "from typing import TypedDict, Annotated\n",
    "import operator\n",
    "from langchain_core.messages import AnyMessage, SystemMessage, HumanMessage, ToolMessage\n",
    "from langchain_openai import ChatOpenAI\n",
    "from langchain_community.tools.tavily_search import TavilySearchResults"
   ]
  },
  {
   "cell_type": "code",
   "execution_count": 4,
   "metadata": {},
   "outputs": [
    {
     "name": "stdout",
     "output_type": "stream",
     "text": [
      "<class 'langchain_community.tools.tavily_search.tool.TavilySearchResults'>\n",
      "tavily_search_results_json\n"
     ]
    }
   ],
   "source": [
    "tool = TavilySearchResults(max_results=2)\n",
    "print(type(tool))\n",
    "print(tool.name)"
   ]
  },
  {
   "cell_type": "code",
   "execution_count": 5,
   "metadata": {},
   "outputs": [],
   "source": [
    "class AgentState(TypedDict):\n",
    "    messages: Annotated[list[AnyMessage], operator.add]"
   ]
  },
  {
   "cell_type": "code",
   "execution_count": 22,
   "metadata": {},
   "outputs": [],
   "source": [
    "class Agent:\n",
    "\n",
    "    def __init__(self, model, tools, system=\"\"):\n",
    "        self.system = system\n",
    "        graph = StateGraph(AgentState)\n",
    "        graph.add_node(\"llm\", self.call_openai)\n",
    "        graph.add_node(\"action\", self.take_action)\n",
    "        graph.add_conditional_edges(\n",
    "            \"llm\",\n",
    "            self.exists_action,\n",
    "            {True: \"action\", False: END}\n",
    "        )\n",
    "        graph.add_edge(\"action\", \"llm\")\n",
    "        graph.set_entry_point(\"llm\")\n",
    "        # Compile graph when all requirent setups is completed. It's for tailored to runnable by langchain.f\n",
    "        self.graph = graph.compile()\n",
    "        self.tools = {t.name: t for t in tools}\n",
    "        self.model = model.bind_tools(tools)\n",
    "\n",
    "    def exists_action(self, state: AgentState):\n",
    "        result = state['messages'][-1]\n",
    "        return len(result.tool_calls) > 0\n",
    "\n",
    "    def call_openai(self, state: AgentState):\n",
    "        messages = state['messages']\n",
    "        if self.system:\n",
    "            messages = [SystemMessage(content=self.system)] + messages\n",
    "        message = self.model.invoke(messages)\n",
    "        return {'messages': [message]}\n",
    "\n",
    "    def take_action(self, state: AgentState):\n",
    "        tool_calls = state['messages'][-1].tool_calls\n",
    "        results = []\n",
    "        for t in tool_calls:\n",
    "            print(f\"Calling: {t}\")\n",
    "            if not t['name'] in self.tools:      \n",
    "                print(\"\\n ....bad tool name....\")\n",
    "                result = \"bad tool name, retry\" \n",
    "            else:\n",
    "                result = self.tools[t['name']].invoke(t['args'])\n",
    "            results.append(ToolMessage(tool_call_id=t['id'], name=t['name'], content=str(result)))\n",
    "        print(\"Back to the model!\")\n",
    "        return {'messages': results}"
   ]
  },
  {
   "cell_type": "code",
   "execution_count": 23,
   "metadata": {},
   "outputs": [],
   "source": [
    "system_prompt = \"\"\"You are a smart research assistant. Use the search engine to look up information. \\\n",
    "You are allowed to make multiple calls (either together or in sequence). \\\n",
    "Only look up information when you are sure of what you want. \\\n",
    "If you need to look up some information before asking a follow up question, you are allowed to do that!\n",
    "\"\"\""
   ]
  },
  {
   "cell_type": "code",
   "execution_count": 24,
   "metadata": {},
   "outputs": [],
   "source": [
    "model = ChatOpenAI(model=\"gpt-3.5-turbo\")  #reduce inference cost\n",
    "abot = Agent(model, [tool], system=system_prompt)"
   ]
  },
  {
   "cell_type": "code",
   "execution_count": 25,
   "metadata": {},
   "outputs": [
    {
     "data": {
      "image/png": "[encoded data removed]",
      "text/plain": [
       "<IPython.core.display.Image object>"
      ]
     },
     "execution_count": 25,
     "metadata": {},
     "output_type": "execute_result"
    }
   ],
   "source": [
    "from IPython.display import Image\n",
    "\n",
    "Image(abot.graph.get_graph().draw_png())"
   ]
  },
  {
   "cell_type": "code",
   "execution_count": 26,
   "metadata": {},
   "outputs": [
    {
     "name": "stdout",
     "output_type": "stream",
     "text": [
      "Calling: {'name': 'tavily_search_results_json', 'args': {'query': 'weather in Ankara'}, 'id': 'call_HZBB0arcK9BOEpaxcKTdbtoA', 'type': 'tool_call'}\n",
      "Back to the model!\n"
     ]
    },
    {
     "data": {
      "text/plain": [
       "{'messages': [HumanMessage(content='What is the weather in Ankara?', additional_kwargs={}, response_metadata={}),\n",
       "  AIMessage(content='', additional_kwargs={'tool_calls': [{'id': 'call_HZBB0arcK9BOEpaxcKTdbtoA', 'function': {'arguments': '{\"query\":\"weather in Ankara\"}', 'name': 'tavily_search_results_json'}, 'type': 'function'}], 'refusal': None}, response_metadata={'token_usage': {'completion_tokens': 21, 'prompt_tokens': 153, 'total_tokens': 174, 'completion_tokens_details': {'accepted_prediction_tokens': 0, 'audio_tokens': 0, 'reasoning_tokens': 0, 'rejected_prediction_tokens': 0}, 'prompt_tokens_details': {'audio_tokens': 0, 'cached_tokens': 0}}, 'model_name': 'gpt-3.5-turbo-0125', 'system_fingerprint': None, 'finish_reason': 'tool_calls', 'logprobs': None}, id='run-4ac25de2-0f4d-414b-8633-b665fff833d6-0', tool_calls=[{'name': 'tavily_search_results_json', 'args': {'query': 'weather in Ankara'}, 'id': 'call_HZBB0arcK9BOEpaxcKTdbtoA', 'type': 'tool_call'}], usage_metadata={'input_tokens': 153, 'output_tokens': 21, 'total_tokens': 174, 'input_token_details': {'audio': 0, 'cache_read': 0}, 'output_token_details': {'audio': 0, 'reasoning': 0}}),\n",
       "  ToolMessage(content='[{\\'url\\': \\'https://www.weatherapi.com/\\', \\'content\\': \"{\\'location\\': {\\'name\\': \\'Ankara\\', \\'region\\': \\'Ankara\\', \\'country\\': \\'Turkey\\', \\'lat\\': 39.9272, \\'lon\\': 32.8644, \\'tz_id\\': \\'Europe/Istanbul\\', \\'localtime_epoch\\': 1736941679, \\'localtime\\': \\'2025-01-15 14:47\\'}, \\'current\\': {\\'last_updated_epoch\\': 1736941500, \\'last_updated\\': \\'2025-01-15 14:45\\', \\'temp_c\\': 8.3, \\'temp_f\\': 46.9, \\'is_day\\': 1, \\'condition\\': {\\'text\\': \\'Light rain\\', \\'icon\\': \\'//cdn.weatherapi.com/weather/64x64/day/296.png\\', \\'code\\': 1183}, \\'wind_mph\\': 2.2, \\'wind_kph\\': 3.6, \\'wind_degree\\': 242, \\'wind_dir\\': \\'WSW\\', \\'pressure_mb\\': 1018.0, \\'pressure_in\\': 30.06, \\'precip_mm\\': 0.42, \\'precip_in\\': 0.02, \\'humidity\\': 87, \\'cloud\\': 75, \\'feelslike_c\\': 8.4, \\'feelslike_f\\': 47.0, \\'windchill_c\\': 9.2, \\'windchill_f\\': 48.6, \\'heatindex_c\\': 9.2, \\'heatindex_f\\': 48.6, \\'dewpoint_c\\': 4.1, \\'dewpoint_f\\': 39.3, \\'vis_km\\': 10.0, \\'vis_miles\\': 6.0, \\'uv\\': 1.2, \\'gust_mph\\': 6.7, \\'gust_kph\\': 10.8}}\"}, {\\'url\\': \\'https://www.meteoprog.com/weather/Ankara/month/january/\\', \\'content\\': \\'Ankara (Turkey) weather in January 2025 ☀️ Accurate weather forecast for Ankara in January ⛅ Detailed forecast By month Current temperature \"near me\" Weather news ⊳ Widget of weather ⊳ Water temperature | METEOPROG ... 15 January +5 °0° 16 January +6°\\'}]', name='tavily_search_results_json', tool_call_id='call_HZBB0arcK9BOEpaxcKTdbtoA'),\n",
       "  AIMessage(content='The current weather in Ankara is 8.3°C (46.9°F) with light rain. The humidity is at 87%, and the wind is blowing at 3.6 km/h from the WSW direction.', additional_kwargs={'refusal': None}, response_metadata={'token_usage': {'completion_tokens': 48, 'prompt_tokens': 688, 'total_tokens': 736, 'completion_tokens_details': {'accepted_prediction_tokens': 0, 'audio_tokens': 0, 'reasoning_tokens': 0, 'rejected_prediction_tokens': 0}, 'prompt_tokens_details': {'audio_tokens': 0, 'cached_tokens': 0}}, 'model_name': 'gpt-3.5-turbo-0125', 'system_fingerprint': None, 'finish_reason': 'stop', 'logprobs': None}, id='run-6ece78a7-4c7a-441d-8663-98129b4e7797-0', usage_metadata={'input_tokens': 688, 'output_tokens': 48, 'total_tokens': 736, 'input_token_details': {'audio': 0, 'cache_read': 0}, 'output_token_details': {'audio': 0, 'reasoning': 0}})]}"
      ]
     },
     "execution_count": 26,
     "metadata": {},
     "output_type": "execute_result"
    }
   ],
   "source": [
    "messages = [HumanMessage(content=\"What is the weather in Ankara?\")]\n",
    "result = abot.graph.invoke({\"messages\": messages})\n",
    "result"
   ]
  },
  {
   "cell_type": "code",
   "execution_count": 27,
   "metadata": {},
   "outputs": [
    {
     "data": {
      "text/plain": [
       "'The current weather in Ankara is 8.3°C (46.9°F) with light rain. The humidity is at 87%, and the wind is blowing at 3.6 km/h from the WSW direction.'"
      ]
     },
     "execution_count": 27,
     "metadata": {},
     "output_type": "execute_result"
    }
   ],
   "source": [
    "result['messages'][-1].content"
   ]
  },
  {
   "cell_type": "code",
   "execution_count": 28,
   "metadata": {},
   "outputs": [
    {
     "name": "stdout",
     "output_type": "stream",
     "text": [
      "Calling: {'name': 'tavily_search_results_json', 'args': {'query': 'Champions League winner 2024'}, 'id': 'call_ZBuMwExvA9L5SOBQdHakME5P', 'type': 'tool_call'}\n",
      "Back to the model!\n",
      "Calling: {'name': 'tavily_search_results_json', 'args': {'query': 'Real Madrid headquarters location'}, 'id': 'call_HizLhgeSKerpELP9oZ8UjVzp', 'type': 'tool_call'}\n",
      "Calling: {'name': 'tavily_search_results_json', 'args': {'query': 'GDP of state where Real Madrid is headquartered'}, 'id': 'call_dFATD2O55ZHhYVyXRR6iFuFq', 'type': 'tool_call'}\n",
      "Back to the model!\n"
     ]
    }
   ],
   "source": [
    "query = \"Who won the Champions Leage in 2024? In what state is the winning team headquarters located? \\\n",
    "What is the GDP of that state? Answer each question.\" \n",
    "messages = [HumanMessage(content=query)]\n",
    "\n",
    "model = ChatOpenAI(model=\"gpt-4o\")\n",
    "abot = Agent(model, [tool], system=system_prompt)\n",
    "result = abot.graph.invoke({\"messages\": messages})"
   ]
  },
  {
   "cell_type": "code",
   "execution_count": 29,
   "metadata": {},
   "outputs": [
    {
     "data": {
      "text/plain": [
       "'1. The winner of the 2024 Champions League is Real Madrid.\\n\\n2. Real Madrid is headquartered in Madrid, Spain.\\n\\n3. The GDP of the Madrid region, where Real Madrid is headquartered, was approximately 261,713 million euros in 2022.'"
      ]
     },
     "execution_count": 29,
     "metadata": {},
     "output_type": "execute_result"
    }
   ],
   "source": [
    "result['messages'][-1].content"
   ]
  },
  {
   "cell_type": "code",
   "execution_count": 30,
   "metadata": {},
   "outputs": [
    {
     "name": "stdout",
     "output_type": "stream",
     "text": [
      "Calling: {'name': 'tavily_search_results_json', 'args': {'query': 'Agentic AI definition'}, 'id': 'call_yDomrLZyeaPcjQcuLNS7RSqx', 'type': 'tool_call'}\n",
      "Calling: {'name': 'tavily_search_results_json', 'args': {'query': 'difference between agentic and AI agents'}, 'id': 'call_0kcSwrSrB41TBZfBkwWLWSjh', 'type': 'tool_call'}\n",
      "Calling: {'name': 'tavily_search_results_json', 'args': {'query': 'agentic AI in military systems'}, 'id': 'call_CI653fGAfuptTLsVvEMzj9pB', 'type': 'tool_call'}\n",
      "Back to the model!\n",
      "1. **What is Agentic AI?**  \n",
      "   Agentic AI refers to artificial intelligence systems that are capable of autonomous action and decision-making. These systems operate autonomously by making decisions and taking actions based on their understanding of their environment and predefined objectives. While guided by goals initially defined by humans, Agentic AI can act alone and adapt dynamically to changes in its environment, allowing it to handle new or ambiguous information without human guidance. This makes it suitable for both real-world interactions, such as in robotics, and virtual environments like simulations. [Source: TechTarget](https://www.techtarget.com/searchenterpriseai/definition/agentic-AI)\n",
      "\n",
      "2. **What is the difference between agentic and AI agents?**  \n",
      "   The primary difference between agentic AI and AI agents is based on their functionality and autonomy. AI agents are reactive and typically goal-specific, responding to specific inputs or instructions. In contrast, Agentic AI is proactive, capable of independent decision-making, and can anticipate needs, identify opportunities, and take initiatives without explicit human directions. Whereas AI agents handle well-defined repetitive tasks, Agentic AI is suitable for navigating complex and dynamic environments. [Source: Ziton.ca](https://ziton.ca/blog/agentic-ai-vs.-ai-agents-unraveling-the-confusion)\n",
      "\n",
      "3. **Are there Agentic AI products in military systems currently?**  \n",
      "   There is ongoing experimentation and advocacy for integrating Agentic AI into military systems. Agentic AI, especially advanced generative systems, could provide decision-support in complex and novel military situations. Military leaders are encouraged to accelerate the experimentation and adoption of Agentic AI tools as part of joint operational planning processes. However, this is still an evolving area, with efforts being made to address potential risks before wide-scale implementation. [Source: Belfer Center](https://www.belfercenter.org/research-analysis/ais-new-frontier-war-planning-how-ai-agents-can-revolutionize-military-decision)\n"
     ]
    }
   ],
   "source": [
    "query = '''I have a three question. \n",
    "1. What is Agentic ai?\n",
    "2. What is the difference between agentic and ai agents?\n",
    "3. Can you tell me that are there agentic ai products in military systems currently?\n",
    "Please answer each question.'''\n",
    "messages = [HumanMessage(content=query)]\n",
    "\n",
    "model = ChatOpenAI(model=\"gpt-4o\")\n",
    "abot = Agent(model, [tool], system=system_prompt)\n",
    "result = abot.graph.invoke({\"messages\": messages})\n",
    "print(result['messages'][-1].content)"
   ]
  },
  {
   "cell_type": "code",
   "execution_count": null,
   "metadata": {},
   "outputs": [],
   "source": []
  }
 ],
 "metadata": {
  "kernelspec": {
   "display_name": "agenticai_stable",
   "language": "python",
   "name": "python3"
  },
  "language_info": {
   "codemirror_mode": {
    "name": "ipython",
    "version": 3
   },
   "file_extension": ".py",
   "mimetype": "text/x-python",
   "name": "python",
   "nbconvert_exporter": "python",
   "pygments_lexer": "ipython3",
   "version": "3.9.21"
  }
 },
 "nbformat": 4,
 "nbformat_minor": 2
}
