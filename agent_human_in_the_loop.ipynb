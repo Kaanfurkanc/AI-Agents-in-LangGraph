{
 "cells": [
  {
   "cell_type": "markdown",
   "metadata": {},
   "source": [
    "### Human in The Loop"
   ]
  },
  {
   "cell_type": "code",
   "execution_count": 1,
   "metadata": {},
   "outputs": [],
   "source": [
    "from dotenv import load_dotenv, find_dotenv\n",
    "\n",
    "_ = load_dotenv(find_dotenv())"
   ]
  },
  {
   "cell_type": "code",
   "execution_count": 2,
   "metadata": {},
   "outputs": [],
   "source": [
    "from langgraph.graph import StateGraph, END\n",
    "from typing import TypedDict, Annotated\n",
    "import operator\n",
    "from langchain_core.messages import AnyMessage, SystemMessage, HumanMessage, ToolMessage\n",
    "from langchain_openai import ChatOpenAI\n",
    "from langchain_community.tools.tavily_search import TavilySearchResults\n",
    "from langgraph.checkpoint.memory import MemorySaver\n",
    "\n",
    "memory = MemorySaver()"
   ]
  },
  {
   "cell_type": "code",
   "execution_count": 3,
   "metadata": {},
   "outputs": [],
   "source": [
    "from uuid import uuid4\n",
    "\n",
    "\"\"\"\n",
    "In previous examples we've annotated the `messages` state key\n",
    "with the default `operator.add` or `+` reducer, which always\n",
    "appends new messages to the end of the existing messages array.\n",
    "\n",
    "Now, to support replacing existing messages, we annotate the\n",
    "`messages` key with a customer reducer function, which replaces\n",
    "messages with the same `id`, and appends them otherwise.\n",
    "\"\"\"\n",
    "def reduce_messages(left: list[AnyMessage], right: list[AnyMessage]) -> list[AnyMessage]:\n",
    "    # assign ids to messages that don't have them\n",
    "    for message in right:\n",
    "        if not message.id:\n",
    "            message.id = str(uuid4())\n",
    "    # merge the new messages with the existing messages\n",
    "    merged = left.copy()\n",
    "    for message in right:\n",
    "        for i, existing in enumerate(merged):\n",
    "            # replace any existing messages with the same id\n",
    "            if existing.id == message.id:\n",
    "                merged[i] = message\n",
    "                break\n",
    "        else:\n",
    "            # append any new messages to the end\n",
    "            merged.append(message)\n",
    "    return merged\n",
    "\n",
    "class AgentState(TypedDict):\n",
    "    messages: Annotated[list[AnyMessage], reduce_messages]"
   ]
  },
  {
   "cell_type": "code",
   "execution_count": 4,
   "metadata": {},
   "outputs": [],
   "source": [
    "tool = TavilySearchResults(max_results=2)"
   ]
  },
  {
   "cell_type": "code",
   "execution_count": 5,
   "metadata": {},
   "outputs": [],
   "source": [
    "class Agent:\n",
    "    def __init__(self, model, tools, checkpointer, system=\"\"):\n",
    "        self.system = system\n",
    "        graph = StateGraph(AgentState)\n",
    "        graph.add_node(\"llm\", self.call_openai)\n",
    "        graph.add_node(\"action\", self.take_action)\n",
    "        graph.add_conditional_edges(\"llm\", self.exists_action, {True: \"action\", False: END})\n",
    "        graph.add_edge(\"action\", \"llm\")\n",
    "        graph.set_entry_point(\"llm\")\n",
    "        self.graph = graph.compile(\n",
    "            checkpointer=checkpointer,\n",
    "            interrupt_before=[\"action\"]\n",
    "            )\n",
    "        self.tools = {t.name: t for t in tools}\n",
    "        self.model = model.bind_tools(tools)\n",
    "\n",
    "    def call_openai(self, state: AgentState):\n",
    "        messages = state['messages']\n",
    "        if self.system:\n",
    "            messages = [SystemMessage(content=self.system)] + messages\n",
    "        message = self.model.invoke(messages)\n",
    "        return {'messages': [message]}\n",
    "\n",
    "    def exists_action(self, state: AgentState):\n",
    "        result = state['messages'][-1]\n",
    "        return len(result.tool_calls) > 0\n",
    "\n",
    "    def take_action(self, state: AgentState):\n",
    "        tool_calls = state['messages'][-1].tool_calls\n",
    "        results = []\n",
    "        for t in tool_calls:\n",
    "            print(f\"Calling: {t}\")\n",
    "            result = self.tools[t['name']].invoke(t['args'])\n",
    "            results.append(ToolMessage(tool_call_id=t['id'], name=t['name'], content=str(result)))\n",
    "        print(\"Back to the model!\")\n",
    "        return {'messages': results}"
   ]
  },
  {
   "cell_type": "code",
   "execution_count": 12,
   "metadata": {},
   "outputs": [],
   "source": [
    "prompt = \"\"\"You are a smart research assistant. Use the search engine to look up information. \\\n",
    "You are allowed to make multiple calls (either together or in sequence). \\\n",
    "Only look up information when you are sure of what you want. \\\n",
    "If you need to look up some information before asking a follow up question, you are allowed to do that!\n",
    "\"\"\"\n",
    "model = ChatOpenAI(model=\"gpt-3.5-turbo\")\n",
    "abot = Agent(model, [tool], system=prompt, checkpointer=memory)"
   ]
  },
  {
   "cell_type": "code",
   "execution_count": 15,
   "metadata": {},
   "outputs": [
    {
     "name": "stdout",
     "output_type": "stream",
     "text": [
      "{'messages': [AIMessage(content='', additional_kwargs={'tool_calls': [{'id': 'call_n6OXfxgUZ9o8GkTRdvUmaWzD', 'function': {'arguments': '{\"query\":\"weather in Ankara\"}', 'name': 'tavily_search_results_json'}, 'type': 'function'}], 'refusal': None}, response_metadata={'token_usage': {'completion_tokens': 21, 'prompt_tokens': 152, 'total_tokens': 173, 'completion_tokens_details': {'accepted_prediction_tokens': 0, 'audio_tokens': 0, 'reasoning_tokens': 0, 'rejected_prediction_tokens': 0}, 'prompt_tokens_details': {'audio_tokens': 0, 'cached_tokens': 0}}, 'model_name': 'gpt-3.5-turbo-0125', 'system_fingerprint': None, 'finish_reason': 'tool_calls', 'logprobs': None}, id='run-41eb0bee-54c5-478f-9f41-089a59a27b8e-0', tool_calls=[{'name': 'tavily_search_results_json', 'args': {'query': 'weather in Ankara'}, 'id': 'call_n6OXfxgUZ9o8GkTRdvUmaWzD', 'type': 'tool_call'}], usage_metadata={'input_tokens': 152, 'output_tokens': 21, 'total_tokens': 173, 'input_token_details': {'audio': 0, 'cache_read': 0}, 'output_token_details': {'audio': 0, 'reasoning': 0}})]}\n",
      "()\n"
     ]
    }
   ],
   "source": [
    "messages = [HumanMessage(content=\"Whats the weather in Ankara?\")]\n",
    "thread = {\"configurable\": {\"thread_id\": \"3\"}}\n",
    "for event in abot.graph.stream({\"messages\": messages}, thread):\n",
    "    for v in event.values():\n",
    "        print(v)"
   ]
  },
  {
   "cell_type": "code",
   "execution_count": 18,
   "metadata": {},
   "outputs": [
    {
     "data": {
      "text/plain": [
       "StateSnapshot(values={'messages': [HumanMessage(content='Whats the weather in Ankara?', additional_kwargs={}, response_metadata={}, id='8c8065b7-1a54-4ec4-9850-b1067e2553e6'), AIMessage(content='', additional_kwargs={'tool_calls': [{'id': 'call_n6OXfxgUZ9o8GkTRdvUmaWzD', 'function': {'arguments': '{\"query\":\"weather in Ankara\"}', 'name': 'tavily_search_results_json'}, 'type': 'function'}], 'refusal': None}, response_metadata={'token_usage': {'completion_tokens': 21, 'prompt_tokens': 152, 'total_tokens': 173, 'completion_tokens_details': {'accepted_prediction_tokens': 0, 'audio_tokens': 0, 'reasoning_tokens': 0, 'rejected_prediction_tokens': 0}, 'prompt_tokens_details': {'audio_tokens': 0, 'cached_tokens': 0}}, 'model_name': 'gpt-3.5-turbo-0125', 'system_fingerprint': None, 'finish_reason': 'tool_calls', 'logprobs': None}, id='run-41eb0bee-54c5-478f-9f41-089a59a27b8e-0', tool_calls=[{'name': 'tavily_search_results_json', 'args': {'query': 'weather in Ankara'}, 'id': 'call_n6OXfxgUZ9o8GkTRdvUmaWzD', 'type': 'tool_call'}], usage_metadata={'input_tokens': 152, 'output_tokens': 21, 'total_tokens': 173, 'input_token_details': {'audio': 0, 'cache_read': 0}, 'output_token_details': {'audio': 0, 'reasoning': 0}})]}, next=('action',), config={'configurable': {'thread_id': '3', 'checkpoint_ns': '', 'checkpoint_id': '1efd37f2-52a5-6081-8001-3c455f697d74'}}, metadata={'source': 'loop', 'writes': {'llm': {'messages': [AIMessage(content='', additional_kwargs={'tool_calls': [{'id': 'call_n6OXfxgUZ9o8GkTRdvUmaWzD', 'function': {'arguments': '{\"query\":\"weather in Ankara\"}', 'name': 'tavily_search_results_json'}, 'type': 'function'}], 'refusal': None}, response_metadata={'token_usage': {'completion_tokens': 21, 'prompt_tokens': 152, 'total_tokens': 173, 'completion_tokens_details': {'accepted_prediction_tokens': 0, 'audio_tokens': 0, 'reasoning_tokens': 0, 'rejected_prediction_tokens': 0}, 'prompt_tokens_details': {'audio_tokens': 0, 'cached_tokens': 0}}, 'model_name': 'gpt-3.5-turbo-0125', 'system_fingerprint': None, 'finish_reason': 'tool_calls', 'logprobs': None}, id='run-41eb0bee-54c5-478f-9f41-089a59a27b8e-0', tool_calls=[{'name': 'tavily_search_results_json', 'args': {'query': 'weather in Ankara'}, 'id': 'call_n6OXfxgUZ9o8GkTRdvUmaWzD', 'type': 'tool_call'}], usage_metadata={'input_tokens': 152, 'output_tokens': 21, 'total_tokens': 173, 'input_token_details': {'audio': 0, 'cache_read': 0}, 'output_token_details': {'audio': 0, 'reasoning': 0}})]}}, 'thread_id': '3', 'step': 1, 'parents': {}}, created_at='2025-01-15T20:27:30.961216+00:00', parent_config={'configurable': {'thread_id': '3', 'checkpoint_ns': '', 'checkpoint_id': '1efd37f2-4b98-6f13-8000-6847d14c4394'}}, tasks=(PregelTask(id='4fbbf8a9-3fb0-9a3d-97b0-b250fbe202a1', name='action', path=('__pregel_pull', 'action'), error=None, interrupts=(), state=None, result=None),))"
      ]
     },
     "execution_count": 18,
     "metadata": {},
     "output_type": "execute_result"
    }
   ],
   "source": [
    "abot.graph.get_state(thread)"
   ]
  },
  {
   "cell_type": "code",
   "execution_count": 19,
   "metadata": {},
   "outputs": [
    {
     "data": {
      "text/plain": [
       "('action',)"
      ]
     },
     "execution_count": 19,
     "metadata": {},
     "output_type": "execute_result"
    }
   ],
   "source": [
    "abot.graph.get_state(thread).next"
   ]
  },
  {
   "cell_type": "markdown",
   "metadata": {},
   "source": [
    "### continue after interrupt"
   ]
  },
  {
   "cell_type": "code",
   "execution_count": 20,
   "metadata": {},
   "outputs": [
    {
     "name": "stdout",
     "output_type": "stream",
     "text": [
      "Calling: {'name': 'tavily_search_results_json', 'args': {'query': 'weather in Ankara'}, 'id': 'call_n6OXfxgUZ9o8GkTRdvUmaWzD', 'type': 'tool_call'}\n",
      "Back to the model!\n",
      "{'messages': [ToolMessage(content='[{\\'url\\': \\'https://www.weatherapi.com/\\', \\'content\\': \"{\\'location\\': {\\'name\\': \\'Ankara\\', \\'region\\': \\'Ankara\\', \\'country\\': \\'Turkey\\', \\'lat\\': 39.9272, \\'lon\\': 32.8644, \\'tz_id\\': \\'Europe/Istanbul\\', \\'localtime_epoch\\': 1736972982, \\'localtime\\': \\'2025-01-15 23:29\\'}, \\'current\\': {\\'last_updated_epoch\\': 1736972100, \\'last_updated\\': \\'2025-01-15 23:15\\', \\'temp_c\\': 4.2, \\'temp_f\\': 39.6, \\'is_day\\': 0, \\'condition\\': {\\'text\\': \\'Clear\\', \\'icon\\': \\'//cdn.weatherapi.com/weather/64x64/night/113.png\\', \\'code\\': 1000}, \\'wind_mph\\': 4.0, \\'wind_kph\\': 6.5, \\'wind_degree\\': 196, \\'wind_dir\\': \\'SSW\\', \\'pressure_mb\\': 1020.0, \\'pressure_in\\': 30.12, \\'precip_mm\\': 0.01, \\'precip_in\\': 0.0, \\'humidity\\': 100, \\'cloud\\': 0, \\'feelslike_c\\': 2.6, \\'feelslike_f\\': 36.8, \\'windchill_c\\': 4.8, \\'windchill_f\\': 40.7, \\'heatindex_c\\': 6.1, \\'heatindex_f\\': 43.0, \\'dewpoint_c\\': 3.0, \\'dewpoint_f\\': 37.4, \\'vis_km\\': 6.0, \\'vis_miles\\': 3.0, \\'uv\\': 0.0, \\'gust_mph\\': 5.8, \\'gust_kph\\': 9.4}}\"}, {\\'url\\': \\'https://www.easeweather.com/europe/turkey/ankara/january\\', \\'content\\': \\'Weather in Ankara in January 2025 - Detailed Forecast Weather in Ankara for January 2025 Your guide to Ankara weather in January - trends and predictions With an average of 4 snowy days, Ankara usually enjoys a light touch of snow in January. According to Ankara snow forecast for January 2025, 3 snowy days are expected until the end of the month. Expect cooler weather in the next days in Ankara with the forecast suggesting a temperature of 6.1\\\\xa0°C, lower than the historical average. Ankara in January average weather Temperatures trend during January in Ankara Will it snow in Ankara in January 2025? Ankara snow forecast January 2025 Explore the daily rainfall trends and prepare for Ankaras January weather\\\\xa0💧\\'}]', name='tavily_search_results_json', id='ed641081-036f-40f4-8d38-8e25dfbc3bc9', tool_call_id='call_n6OXfxgUZ9o8GkTRdvUmaWzD')]}\n",
      "{'messages': [AIMessage(content='The current weather in Ankara is as follows:\\n- Temperature: 4.2°C (39.6°F)\\n- Condition: Clear\\n- Wind: 6.5 km/h from the SSW\\n- Humidity: 100%\\n- Pressure: 1020.0 mb\\n- Visibility: 6.0 km\\n\\nIf you need more detailed information or a forecast, please let me know!', additional_kwargs={'refusal': None}, response_metadata={'token_usage': {'completion_tokens': 85, 'prompt_tokens': 772, 'total_tokens': 857, 'completion_tokens_details': {'accepted_prediction_tokens': 0, 'audio_tokens': 0, 'reasoning_tokens': 0, 'rejected_prediction_tokens': 0}, 'prompt_tokens_details': {'audio_tokens': 0, 'cached_tokens': 0}}, 'model_name': 'gpt-3.5-turbo-0125', 'system_fingerprint': None, 'finish_reason': 'stop', 'logprobs': None}, id='run-a375ca20-02da-457c-8bc0-6eb4b6a117e1-0', usage_metadata={'input_tokens': 772, 'output_tokens': 85, 'total_tokens': 857, 'input_token_details': {'audio': 0, 'cache_read': 0}, 'output_token_details': {'audio': 0, 'reasoning': 0}})]}\n"
     ]
    }
   ],
   "source": [
    "for event in abot.graph.stream(None, thread):\n",
    "    for v in event.values():\n",
    "        print(v)"
   ]
  },
  {
   "cell_type": "code",
   "execution_count": 21,
   "metadata": {},
   "outputs": [
    {
     "data": {
      "text/plain": [
       "StateSnapshot(values={'messages': [HumanMessage(content='Whats the weather in Ankara?', additional_kwargs={}, response_metadata={}, id='8c8065b7-1a54-4ec4-9850-b1067e2553e6'), AIMessage(content='', additional_kwargs={'tool_calls': [{'id': 'call_n6OXfxgUZ9o8GkTRdvUmaWzD', 'function': {'arguments': '{\"query\":\"weather in Ankara\"}', 'name': 'tavily_search_results_json'}, 'type': 'function'}], 'refusal': None}, response_metadata={'token_usage': {'completion_tokens': 21, 'prompt_tokens': 152, 'total_tokens': 173, 'completion_tokens_details': {'accepted_prediction_tokens': 0, 'audio_tokens': 0, 'reasoning_tokens': 0, 'rejected_prediction_tokens': 0}, 'prompt_tokens_details': {'audio_tokens': 0, 'cached_tokens': 0}}, 'model_name': 'gpt-3.5-turbo-0125', 'system_fingerprint': None, 'finish_reason': 'tool_calls', 'logprobs': None}, id='run-41eb0bee-54c5-478f-9f41-089a59a27b8e-0', tool_calls=[{'name': 'tavily_search_results_json', 'args': {'query': 'weather in Ankara'}, 'id': 'call_n6OXfxgUZ9o8GkTRdvUmaWzD', 'type': 'tool_call'}], usage_metadata={'input_tokens': 152, 'output_tokens': 21, 'total_tokens': 173, 'input_token_details': {'audio': 0, 'cache_read': 0}, 'output_token_details': {'audio': 0, 'reasoning': 0}}), ToolMessage(content='[{\\'url\\': \\'https://www.weatherapi.com/\\', \\'content\\': \"{\\'location\\': {\\'name\\': \\'Ankara\\', \\'region\\': \\'Ankara\\', \\'country\\': \\'Turkey\\', \\'lat\\': 39.9272, \\'lon\\': 32.8644, \\'tz_id\\': \\'Europe/Istanbul\\', \\'localtime_epoch\\': 1736972982, \\'localtime\\': \\'2025-01-15 23:29\\'}, \\'current\\': {\\'last_updated_epoch\\': 1736972100, \\'last_updated\\': \\'2025-01-15 23:15\\', \\'temp_c\\': 4.2, \\'temp_f\\': 39.6, \\'is_day\\': 0, \\'condition\\': {\\'text\\': \\'Clear\\', \\'icon\\': \\'//cdn.weatherapi.com/weather/64x64/night/113.png\\', \\'code\\': 1000}, \\'wind_mph\\': 4.0, \\'wind_kph\\': 6.5, \\'wind_degree\\': 196, \\'wind_dir\\': \\'SSW\\', \\'pressure_mb\\': 1020.0, \\'pressure_in\\': 30.12, \\'precip_mm\\': 0.01, \\'precip_in\\': 0.0, \\'humidity\\': 100, \\'cloud\\': 0, \\'feelslike_c\\': 2.6, \\'feelslike_f\\': 36.8, \\'windchill_c\\': 4.8, \\'windchill_f\\': 40.7, \\'heatindex_c\\': 6.1, \\'heatindex_f\\': 43.0, \\'dewpoint_c\\': 3.0, \\'dewpoint_f\\': 37.4, \\'vis_km\\': 6.0, \\'vis_miles\\': 3.0, \\'uv\\': 0.0, \\'gust_mph\\': 5.8, \\'gust_kph\\': 9.4}}\"}, {\\'url\\': \\'https://www.easeweather.com/europe/turkey/ankara/january\\', \\'content\\': \\'Weather in Ankara in January 2025 - Detailed Forecast Weather in Ankara for January 2025 Your guide to Ankara weather in January - trends and predictions With an average of 4 snowy days, Ankara usually enjoys a light touch of snow in January. According to Ankara snow forecast for January 2025, 3 snowy days are expected until the end of the month. Expect cooler weather in the next days in Ankara with the forecast suggesting a temperature of 6.1\\\\xa0°C, lower than the historical average. Ankara in January average weather Temperatures trend during January in Ankara Will it snow in Ankara in January 2025? Ankara snow forecast January 2025 Explore the daily rainfall trends and prepare for Ankaras January weather\\\\xa0💧\\'}]', name='tavily_search_results_json', id='ed641081-036f-40f4-8d38-8e25dfbc3bc9', tool_call_id='call_n6OXfxgUZ9o8GkTRdvUmaWzD'), AIMessage(content='The current weather in Ankara is as follows:\\n- Temperature: 4.2°C (39.6°F)\\n- Condition: Clear\\n- Wind: 6.5 km/h from the SSW\\n- Humidity: 100%\\n- Pressure: 1020.0 mb\\n- Visibility: 6.0 km\\n\\nIf you need more detailed information or a forecast, please let me know!', additional_kwargs={'refusal': None}, response_metadata={'token_usage': {'completion_tokens': 85, 'prompt_tokens': 772, 'total_tokens': 857, 'completion_tokens_details': {'accepted_prediction_tokens': 0, 'audio_tokens': 0, 'reasoning_tokens': 0, 'rejected_prediction_tokens': 0}, 'prompt_tokens_details': {'audio_tokens': 0, 'cached_tokens': 0}}, 'model_name': 'gpt-3.5-turbo-0125', 'system_fingerprint': None, 'finish_reason': 'stop', 'logprobs': None}, id='run-a375ca20-02da-457c-8bc0-6eb4b6a117e1-0', usage_metadata={'input_tokens': 772, 'output_tokens': 85, 'total_tokens': 857, 'input_token_details': {'audio': 0, 'cache_read': 0}, 'output_token_details': {'audio': 0, 'reasoning': 0}})]}, next=(), config={'configurable': {'thread_id': '3', 'checkpoint_ns': '', 'checkpoint_id': '1efd37f9-5a67-6b07-8003-2dec16650f4c'}}, metadata={'source': 'loop', 'writes': {'llm': {'messages': [AIMessage(content='The current weather in Ankara is as follows:\\n- Temperature: 4.2°C (39.6°F)\\n- Condition: Clear\\n- Wind: 6.5 km/h from the SSW\\n- Humidity: 100%\\n- Pressure: 1020.0 mb\\n- Visibility: 6.0 km\\n\\nIf you need more detailed information or a forecast, please let me know!', additional_kwargs={'refusal': None}, response_metadata={'token_usage': {'completion_tokens': 85, 'prompt_tokens': 772, 'total_tokens': 857, 'completion_tokens_details': {'accepted_prediction_tokens': 0, 'audio_tokens': 0, 'reasoning_tokens': 0, 'rejected_prediction_tokens': 0}, 'prompt_tokens_details': {'audio_tokens': 0, 'cached_tokens': 0}}, 'model_name': 'gpt-3.5-turbo-0125', 'system_fingerprint': None, 'finish_reason': 'stop', 'logprobs': None}, id='run-a375ca20-02da-457c-8bc0-6eb4b6a117e1-0', usage_metadata={'input_tokens': 772, 'output_tokens': 85, 'total_tokens': 857, 'input_token_details': {'audio': 0, 'cache_read': 0}, 'output_token_details': {'audio': 0, 'reasoning': 0}})]}}, 'thread_id': '3', 'step': 3, 'parents': {}}, created_at='2025-01-15T20:30:39.679770+00:00', parent_config={'configurable': {'thread_id': '3', 'checkpoint_ns': '', 'checkpoint_id': '1efd37f9-1e0c-677c-8002-c51761961ff7'}}, tasks=())"
      ]
     },
     "execution_count": 21,
     "metadata": {},
     "output_type": "execute_result"
    }
   ],
   "source": [
    "abot.graph.get_state(thread)"
   ]
  },
  {
   "cell_type": "code",
   "execution_count": 22,
   "metadata": {},
   "outputs": [
    {
     "data": {
      "text/plain": [
       "()"
      ]
     },
     "execution_count": 22,
     "metadata": {},
     "output_type": "execute_result"
    }
   ],
   "source": [
    "abot.graph.get_state(thread).next"
   ]
  },
  {
   "cell_type": "code",
   "execution_count": 23,
   "metadata": {},
   "outputs": [
    {
     "name": "stdout",
     "output_type": "stream",
     "text": [
      "{'messages': [AIMessage(content='', additional_kwargs={'tool_calls': [{'id': 'call_TjT29uwWAg3yuGYOi9uHEtKh', 'function': {'arguments': '{\"query\":\"2024 US presidential election winner\"}', 'name': 'tavily_search_results_json'}, 'type': 'function'}], 'refusal': None}, response_metadata={'token_usage': {'completion_tokens': 24, 'prompt_tokens': 156, 'total_tokens': 180, 'completion_tokens_details': {'accepted_prediction_tokens': 0, 'audio_tokens': 0, 'reasoning_tokens': 0, 'rejected_prediction_tokens': 0}, 'prompt_tokens_details': {'audio_tokens': 0, 'cached_tokens': 0}}, 'model_name': 'gpt-3.5-turbo-0125', 'system_fingerprint': None, 'finish_reason': 'tool_calls', 'logprobs': None}, id='run-074effd7-6dc5-404b-a5b2-722f9b0d169f-0', tool_calls=[{'name': 'tavily_search_results_json', 'args': {'query': '2024 US presidential election winner'}, 'id': 'call_TjT29uwWAg3yuGYOi9uHEtKh', 'type': 'tool_call'}], usage_metadata={'input_tokens': 156, 'output_tokens': 24, 'total_tokens': 180, 'input_token_details': {'audio': 0, 'cache_read': 0}, 'output_token_details': {'audio': 0, 'reasoning': 0}})]}\n",
      "()\n",
      "\n",
      " StateSnapshot(values={'messages': [HumanMessage(content='Who won the 2024 US presidential election?', additional_kwargs={}, response_metadata={}, id='f90c8402-23f1-41be-94b3-ab86ea5e92e3'), AIMessage(content='', additional_kwargs={'tool_calls': [{'id': 'call_TjT29uwWAg3yuGYOi9uHEtKh', 'function': {'arguments': '{\"query\":\"2024 US presidential election winner\"}', 'name': 'tavily_search_results_json'}, 'type': 'function'}], 'refusal': None}, response_metadata={'token_usage': {'completion_tokens': 24, 'prompt_tokens': 156, 'total_tokens': 180, 'completion_tokens_details': {'accepted_prediction_tokens': 0, 'audio_tokens': 0, 'reasoning_tokens': 0, 'rejected_prediction_tokens': 0}, 'prompt_tokens_details': {'audio_tokens': 0, 'cached_tokens': 0}}, 'model_name': 'gpt-3.5-turbo-0125', 'system_fingerprint': None, 'finish_reason': 'tool_calls', 'logprobs': None}, id='run-074effd7-6dc5-404b-a5b2-722f9b0d169f-0', tool_calls=[{'name': 'tavily_search_results_json', 'args': {'query': '2024 US presidential election winner'}, 'id': 'call_TjT29uwWAg3yuGYOi9uHEtKh', 'type': 'tool_call'}], usage_metadata={'input_tokens': 156, 'output_tokens': 24, 'total_tokens': 180, 'input_token_details': {'audio': 0, 'cache_read': 0}, 'output_token_details': {'audio': 0, 'reasoning': 0}})]}, next=('action',), config={'configurable': {'thread_id': '44', 'checkpoint_ns': '', 'checkpoint_id': '1efd3808-1222-6e4f-8001-68f9d4030dc7'}}, metadata={'source': 'loop', 'writes': {'llm': {'messages': [AIMessage(content='', additional_kwargs={'tool_calls': [{'id': 'call_TjT29uwWAg3yuGYOi9uHEtKh', 'function': {'arguments': '{\"query\":\"2024 US presidential election winner\"}', 'name': 'tavily_search_results_json'}, 'type': 'function'}], 'refusal': None}, response_metadata={'token_usage': {'completion_tokens': 24, 'prompt_tokens': 156, 'total_tokens': 180, 'completion_tokens_details': {'accepted_prediction_tokens': 0, 'audio_tokens': 0, 'reasoning_tokens': 0, 'rejected_prediction_tokens': 0}, 'prompt_tokens_details': {'audio_tokens': 0, 'cached_tokens': 0}}, 'model_name': 'gpt-3.5-turbo-0125', 'system_fingerprint': None, 'finish_reason': 'tool_calls', 'logprobs': None}, id='run-074effd7-6dc5-404b-a5b2-722f9b0d169f-0', tool_calls=[{'name': 'tavily_search_results_json', 'args': {'query': '2024 US presidential election winner'}, 'id': 'call_TjT29uwWAg3yuGYOi9uHEtKh', 'type': 'tool_call'}], usage_metadata={'input_tokens': 156, 'output_tokens': 24, 'total_tokens': 180, 'input_token_details': {'audio': 0, 'cache_read': 0}, 'output_token_details': {'audio': 0, 'reasoning': 0}})]}}, 'thread_id': '44', 'step': 1, 'parents': {}}, created_at='2025-01-15T20:37:14.755028+00:00', parent_config={'configurable': {'thread_id': '44', 'checkpoint_ns': '', 'checkpoint_id': '1efd3808-0b93-6317-8000-cdb97572896b'}}, tasks=(PregelTask(id='354a226e-8797-bb68-eb07-de2f8f334025', name='action', path=('__pregel_pull', 'action'), error=None, interrupts=(), state=None, result=None),)) \n",
      "\n",
      "Calling: {'name': 'tavily_search_results_json', 'args': {'query': '2024 US presidential election winner'}, 'id': 'call_TjT29uwWAg3yuGYOi9uHEtKh', 'type': 'tool_call'}\n",
      "Back to the model!\n",
      "{'messages': [ToolMessage(content='[{\\'url\\': \\'https://www.latimes.com/politics/story/2024-11-06/trump-defeats-harris-47th-president-election-2024\\', \\'content\\': \\'Trump wins 2024 U.S. presidential election - Los Angeles Times Trump elected 47th president of the United States, defeating Harris to retake White House Nancy Northup, President and CEO of the Center for Reproductive Rights, called Trump’s win “a deadly threat to the democratic values of liberty and equality, the rule of law, and reproductive health, rights, and justice in the United States and around the globe.” “The Democrats thought there were enough people who hated Trump or were willing to fear him to win the race,” Jennings said. 2024 election results: Trump wins second term in historic comeback\\'}, {\\'url\\': \\'https://www.nbcnews.com/politics/2024-elections/president-results\\', \\'content\\': \"Democrats won Nevada in the past two presidential elections — but polling and voting trends in the state have made it an appealing target for Donald Trump in a bid to flip states in his direction. North Carolina hasn’t voted for a Democrat for president since 2008, but Kamala Harris’ campaign has targeted it as a state she can win, buoyed by its large Black population. Resident of the states listed in the \\'Your Rights\\' section of NBCUniversal’s Privacy Policy Only: To opt out of selling or sharing/processing for targeted advertising of information such as cookies and device identifiers processed for targeted ads (as defined by law) and related purposes for this site/app on this browser/device, switch this toggle to off (grey color) by moving it left and clicking “Confirm My Choice” below.\"}]', name='tavily_search_results_json', id='ac7c484e-edcd-4839-a6d9-1ac600fdd407', tool_call_id='call_TjT29uwWAg3yuGYOi9uHEtKh')]}\n",
      "{'messages': [AIMessage(content='Donald Trump won the 2024 US presidential election, defeating Harris to retake the White House. He was elected as the 47th president of the United States in a historic comeback for a second term.', additional_kwargs={'refusal': None}, response_metadata={'token_usage': {'completion_tokens': 44, 'prompt_tokens': 545, 'total_tokens': 589, 'completion_tokens_details': {'accepted_prediction_tokens': 0, 'audio_tokens': 0, 'reasoning_tokens': 0, 'rejected_prediction_tokens': 0}, 'prompt_tokens_details': {'audio_tokens': 0, 'cached_tokens': 0}}, 'model_name': 'gpt-3.5-turbo-0125', 'system_fingerprint': None, 'finish_reason': 'stop', 'logprobs': None}, id='run-0d7d035d-9548-4ddc-8bc1-10ade4696ec6-0', usage_metadata={'input_tokens': 545, 'output_tokens': 44, 'total_tokens': 589, 'input_token_details': {'audio': 0, 'cache_read': 0}, 'output_token_details': {'audio': 0, 'reasoning': 0}})]}\n"
     ]
    }
   ],
   "source": [
    "messages = [HumanMessage(\"Who won the 2024 US presidential election?\")]\n",
    "thread = {\"configurable\": {\"thread_id\": \"44\"}}\n",
    "for event in abot.graph.stream({\"messages\": messages}, thread):\n",
    "    for v in event.values():\n",
    "        print(v)\n",
    "while abot.graph.get_state(thread).next:\n",
    "    print(\"\\n\", abot.graph.get_state(thread),\"\\n\")\n",
    "    _input = input(\"proceed?\")\n",
    "    if _input != \"y\":\n",
    "        print(\"aborting\")\n",
    "        break\n",
    "    for event in abot.graph.stream(None, thread):\n",
    "        for v in event.values():\n",
    "            print(v)"
   ]
  },
  {
   "cell_type": "code",
   "execution_count": 31,
   "metadata": {},
   "outputs": [
    {
     "name": "stdout",
     "output_type": "stream",
     "text": [
      "Donald Trump won the 2024 US presidential election, defeating Harris to retake the White House. He was elected as the 47th president of the United States in a historic comeback for a second term.\n"
     ]
    }
   ],
   "source": [
    "last = abot.graph.get_state(thread)\n",
    "print(last.values[\"messages\"][-1].content)"
   ]
  },
  {
   "cell_type": "markdown",
   "metadata": {},
   "source": [
    "### Modify State"
   ]
  },
  {
   "cell_type": "markdown",
   "metadata": {},
   "source": []
  }
 ],
 "metadata": {
  "kernelspec": {
   "display_name": "agenticai_stable",
   "language": "python",
   "name": "python3"
  },
  "language_info": {
   "codemirror_mode": {
    "name": "ipython",
    "version": 3
   },
   "file_extension": ".py",
   "mimetype": "text/x-python",
   "name": "python",
   "nbconvert_exporter": "python",
   "pygments_lexer": "ipython3",
   "version": "3.9.21"
  }
 },
 "nbformat": 4,
 "nbformat_minor": 2
}
