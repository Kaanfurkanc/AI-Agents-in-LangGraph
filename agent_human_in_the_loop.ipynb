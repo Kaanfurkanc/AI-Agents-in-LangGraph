{
 "cells": [
  {
   "cell_type": "markdown",
   "metadata": {},
   "source": [
    "### Human in The Loop"
   ]
  },
  {
   "cell_type": "code",
   "execution_count": 1,
   "metadata": {},
   "outputs": [],
   "source": [
    "from dotenv import load_dotenv, find_dotenv\n",
    "\n",
    "_ = load_dotenv(find_dotenv())"
   ]
  },
  {
   "cell_type": "code",
   "execution_count": 2,
   "metadata": {},
   "outputs": [],
   "source": [
    "from langgraph.graph import StateGraph, END\n",
    "from typing import TypedDict, Annotated\n",
    "import operator\n",
    "from langchain_core.messages import AnyMessage, SystemMessage, HumanMessage, ToolMessage\n",
    "from langchain_openai import ChatOpenAI\n",
    "from langchain_community.tools.tavily_search import TavilySearchResults\n",
    "from langgraph.checkpoint.memory import MemorySaver\n",
    "\n",
    "memory = MemorySaver()"
   ]
  },
  {
   "cell_type": "code",
   "execution_count": 3,
   "metadata": {},
   "outputs": [],
   "source": [
    "from uuid import uuid4\n",
    "\n",
    "\"\"\"\n",
    "In previous examples we've annotated the `messages` state key\n",
    "with the default `operator.add` or `+` reducer, which always\n",
    "appends new messages to the end of the existing messages array.\n",
    "\n",
    "Now, to support replacing existing messages, we annotate the\n",
    "`messages` key with a customer reducer function, which replaces\n",
    "messages with the same `id`, and appends them otherwise.\n",
    "\"\"\"\n",
    "def reduce_messages(left: list[AnyMessage], right: list[AnyMessage]) -> list[AnyMessage]:\n",
    "    # assign ids to messages that don't have them\n",
    "    for message in right:\n",
    "        if not message.id:\n",
    "            message.id = str(uuid4())\n",
    "    # merge the new messages with the existing messages\n",
    "    merged = left.copy()\n",
    "    for message in right:\n",
    "        for i, existing in enumerate(merged):\n",
    "            # replace any existing messages with the same id\n",
    "            if existing.id == message.id:\n",
    "                merged[i] = message\n",
    "                break\n",
    "        else:\n",
    "            # append any new messages to the end\n",
    "            merged.append(message)\n",
    "    return merged\n",
    "\n",
    "class AgentState(TypedDict):\n",
    "    messages: Annotated[list[AnyMessage], reduce_messages]"
   ]
  },
  {
   "cell_type": "code",
   "execution_count": 4,
   "metadata": {},
   "outputs": [],
   "source": [
    "tool = TavilySearchResults(max_results=2)"
   ]
  },
  {
   "cell_type": "code",
   "execution_count": 5,
   "metadata": {},
   "outputs": [],
   "source": [
    "class Agent:\n",
    "    def __init__(self, model, tools, checkpointer, system=\"\"):\n",
    "        self.system = system\n",
    "        graph = StateGraph(AgentState)\n",
    "        graph.add_node(\"llm\", self.call_openai)\n",
    "        graph.add_node(\"action\", self.take_action)\n",
    "        graph.add_conditional_edges(\"llm\", self.exists_action, {True: \"action\", False: END})\n",
    "        graph.add_edge(\"action\", \"llm\")\n",
    "        graph.set_entry_point(\"llm\")\n",
    "        self.graph = graph.compile(\n",
    "            checkpointer=checkpointer,\n",
    "            interrupt_before=[\"action\"]\n",
    "            )\n",
    "        self.tools = {t.name: t for t in tools}\n",
    "        self.model = model.bind_tools(tools)\n",
    "\n",
    "    def call_openai(self, state: AgentState):\n",
    "        messages = state['messages']\n",
    "        if self.system:\n",
    "            messages = [SystemMessage(content=self.system)] + messages\n",
    "        message = self.model.invoke(messages)\n",
    "        return {'messages': [message]}\n",
    "\n",
    "    def exists_action(self, state: AgentState):\n",
    "        result = state['messages'][-1]\n",
    "        return len(result.tool_calls) > 0\n",
    "\n",
    "    def take_action(self, state: AgentState):\n",
    "        tool_calls = state['messages'][-1].tool_calls\n",
    "        results = []\n",
    "        for t in tool_calls:\n",
    "            print(f\"Calling: {t}\")\n",
    "            result = self.tools[t['name']].invoke(t['args'])\n",
    "            results.append(ToolMessage(tool_call_id=t['id'], name=t['name'], content=str(result)))\n",
    "        print(\"Back to the model!\")\n",
    "        return {'messages': results}"
   ]
  },
  {
   "cell_type": "code",
   "execution_count": 12,
   "metadata": {},
   "outputs": [],
   "source": [
    "prompt = \"\"\"You are a smart research assistant. Use the search engine to look up information. \\\n",
    "You are allowed to make multiple calls (either together or in sequence). \\\n",
    "Only look up information when you are sure of what you want. \\\n",
    "If you need to look up some information before asking a follow up question, you are allowed to do that!\n",
    "\"\"\"\n",
    "model = ChatOpenAI(model=\"gpt-3.5-turbo\")\n",
    "abot = Agent(model, [tool], system=prompt, checkpointer=memory)"
   ]
  },
  {
   "cell_type": "code",
   "execution_count": 15,
   "metadata": {},
   "outputs": [
    {
     "name": "stdout",
     "output_type": "stream",
     "text": [
      "{'messages': [AIMessage(content='', additional_kwargs={'tool_calls': [{'id': 'call_n6OXfxgUZ9o8GkTRdvUmaWzD', 'function': {'arguments': '{\"query\":\"weather in Ankara\"}', 'name': 'tavily_search_results_json'}, 'type': 'function'}], 'refusal': None}, response_metadata={'token_usage': {'completion_tokens': 21, 'prompt_tokens': 152, 'total_tokens': 173, 'completion_tokens_details': {'accepted_prediction_tokens': 0, 'audio_tokens': 0, 'reasoning_tokens': 0, 'rejected_prediction_tokens': 0}, 'prompt_tokens_details': {'audio_tokens': 0, 'cached_tokens': 0}}, 'model_name': 'gpt-3.5-turbo-0125', 'system_fingerprint': None, 'finish_reason': 'tool_calls', 'logprobs': None}, id='run-41eb0bee-54c5-478f-9f41-089a59a27b8e-0', tool_calls=[{'name': 'tavily_search_results_json', 'args': {'query': 'weather in Ankara'}, 'id': 'call_n6OXfxgUZ9o8GkTRdvUmaWzD', 'type': 'tool_call'}], usage_metadata={'input_tokens': 152, 'output_tokens': 21, 'total_tokens': 173, 'input_token_details': {'audio': 0, 'cache_read': 0}, 'output_token_details': {'audio': 0, 'reasoning': 0}})]}\n",
      "()\n"
     ]
    }
   ],
   "source": [
    "messages = [HumanMessage(content=\"Whats the weather in Ankara?\")]\n",
    "thread = {\"configurable\": {\"thread_id\": \"3\"}}\n",
    "for event in abot.graph.stream({\"messages\": messages}, thread):\n",
    "    for v in event.values():\n",
    "        print(v)"
   ]
  },
  {
   "cell_type": "code",
   "execution_count": 18,
   "metadata": {},
   "outputs": [
    {
     "data": {
      "text/plain": [
       "StateSnapshot(values={'messages': [HumanMessage(content='Whats the weather in Ankara?', additional_kwargs={}, response_metadata={}, id='8c8065b7-1a54-4ec4-9850-b1067e2553e6'), AIMessage(content='', additional_kwargs={'tool_calls': [{'id': 'call_n6OXfxgUZ9o8GkTRdvUmaWzD', 'function': {'arguments': '{\"query\":\"weather in Ankara\"}', 'name': 'tavily_search_results_json'}, 'type': 'function'}], 'refusal': None}, response_metadata={'token_usage': {'completion_tokens': 21, 'prompt_tokens': 152, 'total_tokens': 173, 'completion_tokens_details': {'accepted_prediction_tokens': 0, 'audio_tokens': 0, 'reasoning_tokens': 0, 'rejected_prediction_tokens': 0}, 'prompt_tokens_details': {'audio_tokens': 0, 'cached_tokens': 0}}, 'model_name': 'gpt-3.5-turbo-0125', 'system_fingerprint': None, 'finish_reason': 'tool_calls', 'logprobs': None}, id='run-41eb0bee-54c5-478f-9f41-089a59a27b8e-0', tool_calls=[{'name': 'tavily_search_results_json', 'args': {'query': 'weather in Ankara'}, 'id': 'call_n6OXfxgUZ9o8GkTRdvUmaWzD', 'type': 'tool_call'}], usage_metadata={'input_tokens': 152, 'output_tokens': 21, 'total_tokens': 173, 'input_token_details': {'audio': 0, 'cache_read': 0}, 'output_token_details': {'audio': 0, 'reasoning': 0}})]}, next=('action',), config={'configurable': {'thread_id': '3', 'checkpoint_ns': '', 'checkpoint_id': '1efd37f2-52a5-6081-8001-3c455f697d74'}}, metadata={'source': 'loop', 'writes': {'llm': {'messages': [AIMessage(content='', additional_kwargs={'tool_calls': [{'id': 'call_n6OXfxgUZ9o8GkTRdvUmaWzD', 'function': {'arguments': '{\"query\":\"weather in Ankara\"}', 'name': 'tavily_search_results_json'}, 'type': 'function'}], 'refusal': None}, response_metadata={'token_usage': {'completion_tokens': 21, 'prompt_tokens': 152, 'total_tokens': 173, 'completion_tokens_details': {'accepted_prediction_tokens': 0, 'audio_tokens': 0, 'reasoning_tokens': 0, 'rejected_prediction_tokens': 0}, 'prompt_tokens_details': {'audio_tokens': 0, 'cached_tokens': 0}}, 'model_name': 'gpt-3.5-turbo-0125', 'system_fingerprint': None, 'finish_reason': 'tool_calls', 'logprobs': None}, id='run-41eb0bee-54c5-478f-9f41-089a59a27b8e-0', tool_calls=[{'name': 'tavily_search_results_json', 'args': {'query': 'weather in Ankara'}, 'id': 'call_n6OXfxgUZ9o8GkTRdvUmaWzD', 'type': 'tool_call'}], usage_metadata={'input_tokens': 152, 'output_tokens': 21, 'total_tokens': 173, 'input_token_details': {'audio': 0, 'cache_read': 0}, 'output_token_details': {'audio': 0, 'reasoning': 0}})]}}, 'thread_id': '3', 'step': 1, 'parents': {}}, created_at='2025-01-15T20:27:30.961216+00:00', parent_config={'configurable': {'thread_id': '3', 'checkpoint_ns': '', 'checkpoint_id': '1efd37f2-4b98-6f13-8000-6847d14c4394'}}, tasks=(PregelTask(id='4fbbf8a9-3fb0-9a3d-97b0-b250fbe202a1', name='action', path=('__pregel_pull', 'action'), error=None, interrupts=(), state=None, result=None),))"
      ]
     },
     "execution_count": 18,
     "metadata": {},
     "output_type": "execute_result"
    }
   ],
   "source": [
    "abot.graph.get_state(thread)"
   ]
  },
  {
   "cell_type": "code",
   "execution_count": 19,
   "metadata": {},
   "outputs": [
    {
     "data": {
      "text/plain": [
       "('action',)"
      ]
     },
     "execution_count": 19,
     "metadata": {},
     "output_type": "execute_result"
    }
   ],
   "source": [
    "abot.graph.get_state(thread).next"
   ]
  },
  {
   "cell_type": "markdown",
   "metadata": {},
   "source": [
    "### continue after interrupt"
   ]
  },
  {
   "cell_type": "code",
   "execution_count": 20,
   "metadata": {},
   "outputs": [
    {
     "name": "stdout",
     "output_type": "stream",
     "text": [
      "Calling: {'name': 'tavily_search_results_json', 'args': {'query': 'weather in Ankara'}, 'id': 'call_n6OXfxgUZ9o8GkTRdvUmaWzD', 'type': 'tool_call'}\n",
      "Back to the model!\n",
      "{'messages': [ToolMessage(content='[{\\'url\\': \\'https://www.weatherapi.com/\\', \\'content\\': \"{\\'location\\': {\\'name\\': \\'Ankara\\', \\'region\\': \\'Ankara\\', \\'country\\': \\'Turkey\\', \\'lat\\': 39.9272, \\'lon\\': 32.8644, \\'tz_id\\': \\'Europe/Istanbul\\', \\'localtime_epoch\\': 1736972982, \\'localtime\\': \\'2025-01-15 23:29\\'}, \\'current\\': {\\'last_updated_epoch\\': 1736972100, \\'last_updated\\': \\'2025-01-15 23:15\\', \\'temp_c\\': 4.2, \\'temp_f\\': 39.6, \\'is_day\\': 0, \\'condition\\': {\\'text\\': \\'Clear\\', \\'icon\\': \\'//cdn.weatherapi.com/weather/64x64/night/113.png\\', \\'code\\': 1000}, \\'wind_mph\\': 4.0, \\'wind_kph\\': 6.5, \\'wind_degree\\': 196, \\'wind_dir\\': \\'SSW\\', \\'pressure_mb\\': 1020.0, \\'pressure_in\\': 30.12, \\'precip_mm\\': 0.01, \\'precip_in\\': 0.0, \\'humidity\\': 100, \\'cloud\\': 0, \\'feelslike_c\\': 2.6, \\'feelslike_f\\': 36.8, \\'windchill_c\\': 4.8, \\'windchill_f\\': 40.7, \\'heatindex_c\\': 6.1, \\'heatindex_f\\': 43.0, \\'dewpoint_c\\': 3.0, \\'dewpoint_f\\': 37.4, \\'vis_km\\': 6.0, \\'vis_miles\\': 3.0, \\'uv\\': 0.0, \\'gust_mph\\': 5.8, \\'gust_kph\\': 9.4}}\"}, {\\'url\\': \\'https://www.easeweather.com/europe/turkey/ankara/january\\', \\'content\\': \\'Weather in Ankara in January 2025 - Detailed Forecast Weather in Ankara for January 2025 Your guide to Ankara weather in January - trends and predictions With an average of 4 snowy days, Ankara usually enjoys a light touch of snow in January. According to Ankara snow forecast for January 2025, 3 snowy days are expected until the end of the month. Expect cooler weather in the next days in Ankara with the forecast suggesting a temperature of 6.1\\\\xa0°C, lower than the historical average. Ankara in January average weather Temperatures trend during January in Ankara Will it snow in Ankara in January 2025? Ankara snow forecast January 2025 Explore the daily rainfall trends and prepare for Ankaras January weather\\\\xa0💧\\'}]', name='tavily_search_results_json', id='ed641081-036f-40f4-8d38-8e25dfbc3bc9', tool_call_id='call_n6OXfxgUZ9o8GkTRdvUmaWzD')]}\n",
      "{'messages': [AIMessage(content='The current weather in Ankara is as follows:\\n- Temperature: 4.2°C (39.6°F)\\n- Condition: Clear\\n- Wind: 6.5 km/h from the SSW\\n- Humidity: 100%\\n- Pressure: 1020.0 mb\\n- Visibility: 6.0 km\\n\\nIf you need more detailed information or a forecast, please let me know!', additional_kwargs={'refusal': None}, response_metadata={'token_usage': {'completion_tokens': 85, 'prompt_tokens': 772, 'total_tokens': 857, 'completion_tokens_details': {'accepted_prediction_tokens': 0, 'audio_tokens': 0, 'reasoning_tokens': 0, 'rejected_prediction_tokens': 0}, 'prompt_tokens_details': {'audio_tokens': 0, 'cached_tokens': 0}}, 'model_name': 'gpt-3.5-turbo-0125', 'system_fingerprint': None, 'finish_reason': 'stop', 'logprobs': None}, id='run-a375ca20-02da-457c-8bc0-6eb4b6a117e1-0', usage_metadata={'input_tokens': 772, 'output_tokens': 85, 'total_tokens': 857, 'input_token_details': {'audio': 0, 'cache_read': 0}, 'output_token_details': {'audio': 0, 'reasoning': 0}})]}\n"
     ]
    }
   ],
   "source": [
    "for event in abot.graph.stream(None, thread):\n",
    "    for v in event.values():\n",
    "        print(v)"
   ]
  },
  {
   "cell_type": "code",
   "execution_count": 21,
   "metadata": {},
   "outputs": [
    {
     "data": {
      "text/plain": [
       "StateSnapshot(values={'messages': [HumanMessage(content='Whats the weather in Ankara?', additional_kwargs={}, response_metadata={}, id='8c8065b7-1a54-4ec4-9850-b1067e2553e6'), AIMessage(content='', additional_kwargs={'tool_calls': [{'id': 'call_n6OXfxgUZ9o8GkTRdvUmaWzD', 'function': {'arguments': '{\"query\":\"weather in Ankara\"}', 'name': 'tavily_search_results_json'}, 'type': 'function'}], 'refusal': None}, response_metadata={'token_usage': {'completion_tokens': 21, 'prompt_tokens': 152, 'total_tokens': 173, 'completion_tokens_details': {'accepted_prediction_tokens': 0, 'audio_tokens': 0, 'reasoning_tokens': 0, 'rejected_prediction_tokens': 0}, 'prompt_tokens_details': {'audio_tokens': 0, 'cached_tokens': 0}}, 'model_name': 'gpt-3.5-turbo-0125', 'system_fingerprint': None, 'finish_reason': 'tool_calls', 'logprobs': None}, id='run-41eb0bee-54c5-478f-9f41-089a59a27b8e-0', tool_calls=[{'name': 'tavily_search_results_json', 'args': {'query': 'weather in Ankara'}, 'id': 'call_n6OXfxgUZ9o8GkTRdvUmaWzD', 'type': 'tool_call'}], usage_metadata={'input_tokens': 152, 'output_tokens': 21, 'total_tokens': 173, 'input_token_details': {'audio': 0, 'cache_read': 0}, 'output_token_details': {'audio': 0, 'reasoning': 0}}), ToolMessage(content='[{\\'url\\': \\'https://www.weatherapi.com/\\', \\'content\\': \"{\\'location\\': {\\'name\\': \\'Ankara\\', \\'region\\': \\'Ankara\\', \\'country\\': \\'Turkey\\', \\'lat\\': 39.9272, \\'lon\\': 32.8644, \\'tz_id\\': \\'Europe/Istanbul\\', \\'localtime_epoch\\': 1736972982, \\'localtime\\': \\'2025-01-15 23:29\\'}, \\'current\\': {\\'last_updated_epoch\\': 1736972100, \\'last_updated\\': \\'2025-01-15 23:15\\', \\'temp_c\\': 4.2, \\'temp_f\\': 39.6, \\'is_day\\': 0, \\'condition\\': {\\'text\\': \\'Clear\\', \\'icon\\': \\'//cdn.weatherapi.com/weather/64x64/night/113.png\\', \\'code\\': 1000}, \\'wind_mph\\': 4.0, \\'wind_kph\\': 6.5, \\'wind_degree\\': 196, \\'wind_dir\\': \\'SSW\\', \\'pressure_mb\\': 1020.0, \\'pressure_in\\': 30.12, \\'precip_mm\\': 0.01, \\'precip_in\\': 0.0, \\'humidity\\': 100, \\'cloud\\': 0, \\'feelslike_c\\': 2.6, \\'feelslike_f\\': 36.8, \\'windchill_c\\': 4.8, \\'windchill_f\\': 40.7, \\'heatindex_c\\': 6.1, \\'heatindex_f\\': 43.0, \\'dewpoint_c\\': 3.0, \\'dewpoint_f\\': 37.4, \\'vis_km\\': 6.0, \\'vis_miles\\': 3.0, \\'uv\\': 0.0, \\'gust_mph\\': 5.8, \\'gust_kph\\': 9.4}}\"}, {\\'url\\': \\'https://www.easeweather.com/europe/turkey/ankara/january\\', \\'content\\': \\'Weather in Ankara in January 2025 - Detailed Forecast Weather in Ankara for January 2025 Your guide to Ankara weather in January - trends and predictions With an average of 4 snowy days, Ankara usually enjoys a light touch of snow in January. According to Ankara snow forecast for January 2025, 3 snowy days are expected until the end of the month. Expect cooler weather in the next days in Ankara with the forecast suggesting a temperature of 6.1\\\\xa0°C, lower than the historical average. Ankara in January average weather Temperatures trend during January in Ankara Will it snow in Ankara in January 2025? Ankara snow forecast January 2025 Explore the daily rainfall trends and prepare for Ankaras January weather\\\\xa0💧\\'}]', name='tavily_search_results_json', id='ed641081-036f-40f4-8d38-8e25dfbc3bc9', tool_call_id='call_n6OXfxgUZ9o8GkTRdvUmaWzD'), AIMessage(content='The current weather in Ankara is as follows:\\n- Temperature: 4.2°C (39.6°F)\\n- Condition: Clear\\n- Wind: 6.5 km/h from the SSW\\n- Humidity: 100%\\n- Pressure: 1020.0 mb\\n- Visibility: 6.0 km\\n\\nIf you need more detailed information or a forecast, please let me know!', additional_kwargs={'refusal': None}, response_metadata={'token_usage': {'completion_tokens': 85, 'prompt_tokens': 772, 'total_tokens': 857, 'completion_tokens_details': {'accepted_prediction_tokens': 0, 'audio_tokens': 0, 'reasoning_tokens': 0, 'rejected_prediction_tokens': 0}, 'prompt_tokens_details': {'audio_tokens': 0, 'cached_tokens': 0}}, 'model_name': 'gpt-3.5-turbo-0125', 'system_fingerprint': None, 'finish_reason': 'stop', 'logprobs': None}, id='run-a375ca20-02da-457c-8bc0-6eb4b6a117e1-0', usage_metadata={'input_tokens': 772, 'output_tokens': 85, 'total_tokens': 857, 'input_token_details': {'audio': 0, 'cache_read': 0}, 'output_token_details': {'audio': 0, 'reasoning': 0}})]}, next=(), config={'configurable': {'thread_id': '3', 'checkpoint_ns': '', 'checkpoint_id': '1efd37f9-5a67-6b07-8003-2dec16650f4c'}}, metadata={'source': 'loop', 'writes': {'llm': {'messages': [AIMessage(content='The current weather in Ankara is as follows:\\n- Temperature: 4.2°C (39.6°F)\\n- Condition: Clear\\n- Wind: 6.5 km/h from the SSW\\n- Humidity: 100%\\n- Pressure: 1020.0 mb\\n- Visibility: 6.0 km\\n\\nIf you need more detailed information or a forecast, please let me know!', additional_kwargs={'refusal': None}, response_metadata={'token_usage': {'completion_tokens': 85, 'prompt_tokens': 772, 'total_tokens': 857, 'completion_tokens_details': {'accepted_prediction_tokens': 0, 'audio_tokens': 0, 'reasoning_tokens': 0, 'rejected_prediction_tokens': 0}, 'prompt_tokens_details': {'audio_tokens': 0, 'cached_tokens': 0}}, 'model_name': 'gpt-3.5-turbo-0125', 'system_fingerprint': None, 'finish_reason': 'stop', 'logprobs': None}, id='run-a375ca20-02da-457c-8bc0-6eb4b6a117e1-0', usage_metadata={'input_tokens': 772, 'output_tokens': 85, 'total_tokens': 857, 'input_token_details': {'audio': 0, 'cache_read': 0}, 'output_token_details': {'audio': 0, 'reasoning': 0}})]}}, 'thread_id': '3', 'step': 3, 'parents': {}}, created_at='2025-01-15T20:30:39.679770+00:00', parent_config={'configurable': {'thread_id': '3', 'checkpoint_ns': '', 'checkpoint_id': '1efd37f9-1e0c-677c-8002-c51761961ff7'}}, tasks=())"
      ]
     },
     "execution_count": 21,
     "metadata": {},
     "output_type": "execute_result"
    }
   ],
   "source": [
    "abot.graph.get_state(thread)"
   ]
  },
  {
   "cell_type": "code",
   "execution_count": 22,
   "metadata": {},
   "outputs": [
    {
     "data": {
      "text/plain": [
       "()"
      ]
     },
     "execution_count": 22,
     "metadata": {},
     "output_type": "execute_result"
    }
   ],
   "source": [
    "abot.graph.get_state(thread).next"
   ]
  },
  {
   "cell_type": "code",
   "execution_count": 23,
   "metadata": {},
   "outputs": [
    {
     "name": "stdout",
     "output_type": "stream",
     "text": [
      "{'messages': [AIMessage(content='', additional_kwargs={'tool_calls': [{'id': 'call_TjT29uwWAg3yuGYOi9uHEtKh', 'function': {'arguments': '{\"query\":\"2024 US presidential election winner\"}', 'name': 'tavily_search_results_json'}, 'type': 'function'}], 'refusal': None}, response_metadata={'token_usage': {'completion_tokens': 24, 'prompt_tokens': 156, 'total_tokens': 180, 'completion_tokens_details': {'accepted_prediction_tokens': 0, 'audio_tokens': 0, 'reasoning_tokens': 0, 'rejected_prediction_tokens': 0}, 'prompt_tokens_details': {'audio_tokens': 0, 'cached_tokens': 0}}, 'model_name': 'gpt-3.5-turbo-0125', 'system_fingerprint': None, 'finish_reason': 'tool_calls', 'logprobs': None}, id='run-074effd7-6dc5-404b-a5b2-722f9b0d169f-0', tool_calls=[{'name': 'tavily_search_results_json', 'args': {'query': '2024 US presidential election winner'}, 'id': 'call_TjT29uwWAg3yuGYOi9uHEtKh', 'type': 'tool_call'}], usage_metadata={'input_tokens': 156, 'output_tokens': 24, 'total_tokens': 180, 'input_token_details': {'audio': 0, 'cache_read': 0}, 'output_token_details': {'audio': 0, 'reasoning': 0}})]}\n",
      "()\n",
      "\n",
      " StateSnapshot(values={'messages': [HumanMessage(content='Who won the 2024 US presidential election?', additional_kwargs={}, response_metadata={}, id='f90c8402-23f1-41be-94b3-ab86ea5e92e3'), AIMessage(content='', additional_kwargs={'tool_calls': [{'id': 'call_TjT29uwWAg3yuGYOi9uHEtKh', 'function': {'arguments': '{\"query\":\"2024 US presidential election winner\"}', 'name': 'tavily_search_results_json'}, 'type': 'function'}], 'refusal': None}, response_metadata={'token_usage': {'completion_tokens': 24, 'prompt_tokens': 156, 'total_tokens': 180, 'completion_tokens_details': {'accepted_prediction_tokens': 0, 'audio_tokens': 0, 'reasoning_tokens': 0, 'rejected_prediction_tokens': 0}, 'prompt_tokens_details': {'audio_tokens': 0, 'cached_tokens': 0}}, 'model_name': 'gpt-3.5-turbo-0125', 'system_fingerprint': None, 'finish_reason': 'tool_calls', 'logprobs': None}, id='run-074effd7-6dc5-404b-a5b2-722f9b0d169f-0', tool_calls=[{'name': 'tavily_search_results_json', 'args': {'query': '2024 US presidential election winner'}, 'id': 'call_TjT29uwWAg3yuGYOi9uHEtKh', 'type': 'tool_call'}], usage_metadata={'input_tokens': 156, 'output_tokens': 24, 'total_tokens': 180, 'input_token_details': {'audio': 0, 'cache_read': 0}, 'output_token_details': {'audio': 0, 'reasoning': 0}})]}, next=('action',), config={'configurable': {'thread_id': '44', 'checkpoint_ns': '', 'checkpoint_id': '1efd3808-1222-6e4f-8001-68f9d4030dc7'}}, metadata={'source': 'loop', 'writes': {'llm': {'messages': [AIMessage(content='', additional_kwargs={'tool_calls': [{'id': 'call_TjT29uwWAg3yuGYOi9uHEtKh', 'function': {'arguments': '{\"query\":\"2024 US presidential election winner\"}', 'name': 'tavily_search_results_json'}, 'type': 'function'}], 'refusal': None}, response_metadata={'token_usage': {'completion_tokens': 24, 'prompt_tokens': 156, 'total_tokens': 180, 'completion_tokens_details': {'accepted_prediction_tokens': 0, 'audio_tokens': 0, 'reasoning_tokens': 0, 'rejected_prediction_tokens': 0}, 'prompt_tokens_details': {'audio_tokens': 0, 'cached_tokens': 0}}, 'model_name': 'gpt-3.5-turbo-0125', 'system_fingerprint': None, 'finish_reason': 'tool_calls', 'logprobs': None}, id='run-074effd7-6dc5-404b-a5b2-722f9b0d169f-0', tool_calls=[{'name': 'tavily_search_results_json', 'args': {'query': '2024 US presidential election winner'}, 'id': 'call_TjT29uwWAg3yuGYOi9uHEtKh', 'type': 'tool_call'}], usage_metadata={'input_tokens': 156, 'output_tokens': 24, 'total_tokens': 180, 'input_token_details': {'audio': 0, 'cache_read': 0}, 'output_token_details': {'audio': 0, 'reasoning': 0}})]}}, 'thread_id': '44', 'step': 1, 'parents': {}}, created_at='2025-01-15T20:37:14.755028+00:00', parent_config={'configurable': {'thread_id': '44', 'checkpoint_ns': '', 'checkpoint_id': '1efd3808-0b93-6317-8000-cdb97572896b'}}, tasks=(PregelTask(id='354a226e-8797-bb68-eb07-de2f8f334025', name='action', path=('__pregel_pull', 'action'), error=None, interrupts=(), state=None, result=None),)) \n",
      "\n",
      "Calling: {'name': 'tavily_search_results_json', 'args': {'query': '2024 US presidential election winner'}, 'id': 'call_TjT29uwWAg3yuGYOi9uHEtKh', 'type': 'tool_call'}\n",
      "Back to the model!\n",
      "{'messages': [ToolMessage(content='[{\\'url\\': \\'https://www.latimes.com/politics/story/2024-11-06/trump-defeats-harris-47th-president-election-2024\\', \\'content\\': \\'Trump wins 2024 U.S. presidential election - Los Angeles Times Trump elected 47th president of the United States, defeating Harris to retake White House Nancy Northup, President and CEO of the Center for Reproductive Rights, called Trump’s win “a deadly threat to the democratic values of liberty and equality, the rule of law, and reproductive health, rights, and justice in the United States and around the globe.” “The Democrats thought there were enough people who hated Trump or were willing to fear him to win the race,” Jennings said. 2024 election results: Trump wins second term in historic comeback\\'}, {\\'url\\': \\'https://www.nbcnews.com/politics/2024-elections/president-results\\', \\'content\\': \"Democrats won Nevada in the past two presidential elections — but polling and voting trends in the state have made it an appealing target for Donald Trump in a bid to flip states in his direction. North Carolina hasn’t voted for a Democrat for president since 2008, but Kamala Harris’ campaign has targeted it as a state she can win, buoyed by its large Black population. Resident of the states listed in the \\'Your Rights\\' section of NBCUniversal’s Privacy Policy Only: To opt out of selling or sharing/processing for targeted advertising of information such as cookies and device identifiers processed for targeted ads (as defined by law) and related purposes for this site/app on this browser/device, switch this toggle to off (grey color) by moving it left and clicking “Confirm My Choice” below.\"}]', name='tavily_search_results_json', id='ac7c484e-edcd-4839-a6d9-1ac600fdd407', tool_call_id='call_TjT29uwWAg3yuGYOi9uHEtKh')]}\n",
      "{'messages': [AIMessage(content='Donald Trump won the 2024 US presidential election, defeating Harris to retake the White House. He was elected as the 47th president of the United States in a historic comeback for a second term.', additional_kwargs={'refusal': None}, response_metadata={'token_usage': {'completion_tokens': 44, 'prompt_tokens': 545, 'total_tokens': 589, 'completion_tokens_details': {'accepted_prediction_tokens': 0, 'audio_tokens': 0, 'reasoning_tokens': 0, 'rejected_prediction_tokens': 0}, 'prompt_tokens_details': {'audio_tokens': 0, 'cached_tokens': 0}}, 'model_name': 'gpt-3.5-turbo-0125', 'system_fingerprint': None, 'finish_reason': 'stop', 'logprobs': None}, id='run-0d7d035d-9548-4ddc-8bc1-10ade4696ec6-0', usage_metadata={'input_tokens': 545, 'output_tokens': 44, 'total_tokens': 589, 'input_token_details': {'audio': 0, 'cache_read': 0}, 'output_token_details': {'audio': 0, 'reasoning': 0}})]}\n"
     ]
    }
   ],
   "source": [
    "messages = [HumanMessage(\"Who won the 2024 US presidential election?\")]\n",
    "thread = {\"configurable\": {\"thread_id\": \"44\"}}\n",
    "for event in abot.graph.stream({\"messages\": messages}, thread):\n",
    "    for v in event.values():\n",
    "        print(v)\n",
    "while abot.graph.get_state(thread).next:\n",
    "    print(\"\\n\", abot.graph.get_state(thread),\"\\n\")\n",
    "    _input = input(\"proceed?\")\n",
    "    if _input != \"y\":\n",
    "        print(\"aborting\")\n",
    "        break\n",
    "    for event in abot.graph.stream(None, thread):\n",
    "        for v in event.values():\n",
    "            print(v)"
   ]
  },
  {
   "cell_type": "code",
   "execution_count": 31,
   "metadata": {},
   "outputs": [
    {
     "name": "stdout",
     "output_type": "stream",
     "text": [
      "Donald Trump won the 2024 US presidential election, defeating Harris to retake the White House. He was elected as the 47th president of the United States in a historic comeback for a second term.\n"
     ]
    }
   ],
   "source": [
    "last = abot.graph.get_state(thread)\n",
    "print(last.values[\"messages\"][-1].content)"
   ]
  },
  {
   "cell_type": "markdown",
   "metadata": {},
   "source": [
    "### Modify State"
   ]
  },
  {
   "cell_type": "code",
   "execution_count": 32,
   "metadata": {},
   "outputs": [
    {
     "name": "stdout",
     "output_type": "stream",
     "text": [
      "{'messages': [AIMessage(content='', additional_kwargs={'tool_calls': [{'id': 'call_9w9l47t5k1h1ZSM5M8Sz3LQ5', 'function': {'arguments': '{\"query\":\"weather in Ankara\"}', 'name': 'tavily_search_results_json'}, 'type': 'function'}], 'refusal': None}, response_metadata={'token_usage': {'completion_tokens': 21, 'prompt_tokens': 152, 'total_tokens': 173, 'completion_tokens_details': {'accepted_prediction_tokens': 0, 'audio_tokens': 0, 'reasoning_tokens': 0, 'rejected_prediction_tokens': 0}, 'prompt_tokens_details': {'audio_tokens': 0, 'cached_tokens': 0}}, 'model_name': 'gpt-3.5-turbo-0125', 'system_fingerprint': None, 'finish_reason': 'tool_calls', 'logprobs': None}, id='run-87b995d9-94de-4cfa-a54c-72b68a7801a0-0', tool_calls=[{'name': 'tavily_search_results_json', 'args': {'query': 'weather in Ankara'}, 'id': 'call_9w9l47t5k1h1ZSM5M8Sz3LQ5', 'type': 'tool_call'}], usage_metadata={'input_tokens': 152, 'output_tokens': 21, 'total_tokens': 173, 'input_token_details': {'audio': 0, 'cache_read': 0}, 'output_token_details': {'audio': 0, 'reasoning': 0}})]}\n",
      "()\n"
     ]
    }
   ],
   "source": [
    "messages = [HumanMessage(\"Whats the weather in Ankara?\")]\n",
    "thread = {\"configurable\": {\"thread_id\": \"33\"}}\n",
    "for event in abot.graph.stream({\"messages\": messages}, thread):\n",
    "    for v in event.values():\n",
    "        print(v)"
   ]
  },
  {
   "cell_type": "code",
   "execution_count": 33,
   "metadata": {},
   "outputs": [
    {
     "data": {
      "text/plain": [
       "StateSnapshot(values={'messages': [HumanMessage(content='Whats the weather in Ankara?', additional_kwargs={}, response_metadata={}, id='ff0dc778-5113-43ea-ba65-4ecd1c3c6876'), AIMessage(content='', additional_kwargs={'tool_calls': [{'id': 'call_9w9l47t5k1h1ZSM5M8Sz3LQ5', 'function': {'arguments': '{\"query\":\"weather in Ankara\"}', 'name': 'tavily_search_results_json'}, 'type': 'function'}], 'refusal': None}, response_metadata={'token_usage': {'completion_tokens': 21, 'prompt_tokens': 152, 'total_tokens': 173, 'completion_tokens_details': {'accepted_prediction_tokens': 0, 'audio_tokens': 0, 'reasoning_tokens': 0, 'rejected_prediction_tokens': 0}, 'prompt_tokens_details': {'audio_tokens': 0, 'cached_tokens': 0}}, 'model_name': 'gpt-3.5-turbo-0125', 'system_fingerprint': None, 'finish_reason': 'tool_calls', 'logprobs': None}, id='run-87b995d9-94de-4cfa-a54c-72b68a7801a0-0', tool_calls=[{'name': 'tavily_search_results_json', 'args': {'query': 'weather in Ankara'}, 'id': 'call_9w9l47t5k1h1ZSM5M8Sz3LQ5', 'type': 'tool_call'}], usage_metadata={'input_tokens': 152, 'output_tokens': 21, 'total_tokens': 173, 'input_token_details': {'audio': 0, 'cache_read': 0}, 'output_token_details': {'audio': 0, 'reasoning': 0}})]}, next=('action',), config={'configurable': {'thread_id': '33', 'checkpoint_ns': '', 'checkpoint_id': '1efd3f10-a0e1-634f-8001-ea2f7bebf18b'}}, metadata={'source': 'loop', 'writes': {'llm': {'messages': [AIMessage(content='', additional_kwargs={'tool_calls': [{'id': 'call_9w9l47t5k1h1ZSM5M8Sz3LQ5', 'function': {'arguments': '{\"query\":\"weather in Ankara\"}', 'name': 'tavily_search_results_json'}, 'type': 'function'}], 'refusal': None}, response_metadata={'token_usage': {'completion_tokens': 21, 'prompt_tokens': 152, 'total_tokens': 173, 'completion_tokens_details': {'accepted_prediction_tokens': 0, 'audio_tokens': 0, 'reasoning_tokens': 0, 'rejected_prediction_tokens': 0}, 'prompt_tokens_details': {'audio_tokens': 0, 'cached_tokens': 0}}, 'model_name': 'gpt-3.5-turbo-0125', 'system_fingerprint': None, 'finish_reason': 'tool_calls', 'logprobs': None}, id='run-87b995d9-94de-4cfa-a54c-72b68a7801a0-0', tool_calls=[{'name': 'tavily_search_results_json', 'args': {'query': 'weather in Ankara'}, 'id': 'call_9w9l47t5k1h1ZSM5M8Sz3LQ5', 'type': 'tool_call'}], usage_metadata={'input_tokens': 152, 'output_tokens': 21, 'total_tokens': 173, 'input_token_details': {'audio': 0, 'cache_read': 0}, 'output_token_details': {'audio': 0, 'reasoning': 0}})]}}, 'thread_id': '33', 'step': 1, 'parents': {}}, created_at='2025-01-16T10:02:48.104839+00:00', parent_config={'configurable': {'thread_id': '33', 'checkpoint_ns': '', 'checkpoint_id': '1efd3f10-9185-6fd5-8000-f64f93373dbb'}}, tasks=(PregelTask(id='efd64557-c502-101e-8f70-68ddc87908f1', name='action', path=('__pregel_pull', 'action'), error=None, interrupts=(), state=None, result=None),))"
      ]
     },
     "execution_count": 33,
     "metadata": {},
     "output_type": "execute_result"
    }
   ],
   "source": [
    "abot.graph.get_state(thread)"
   ]
  },
  {
   "cell_type": "code",
   "execution_count": 34,
   "metadata": {},
   "outputs": [
    {
     "data": {
      "text/plain": [
       "('action',)"
      ]
     },
     "execution_count": 34,
     "metadata": {},
     "output_type": "execute_result"
    }
   ],
   "source": [
    "abot.graph.get_state(thread).next"
   ]
  },
  {
   "cell_type": "code",
   "execution_count": 35,
   "metadata": {},
   "outputs": [],
   "source": [
    "current_values = abot.graph.get_state(thread)"
   ]
  },
  {
   "cell_type": "code",
   "execution_count": 36,
   "metadata": {},
   "outputs": [
    {
     "data": {
      "text/plain": [
       "AIMessage(content='', additional_kwargs={'tool_calls': [{'id': 'call_9w9l47t5k1h1ZSM5M8Sz3LQ5', 'function': {'arguments': '{\"query\":\"weather in Ankara\"}', 'name': 'tavily_search_results_json'}, 'type': 'function'}], 'refusal': None}, response_metadata={'token_usage': {'completion_tokens': 21, 'prompt_tokens': 152, 'total_tokens': 173, 'completion_tokens_details': {'accepted_prediction_tokens': 0, 'audio_tokens': 0, 'reasoning_tokens': 0, 'rejected_prediction_tokens': 0}, 'prompt_tokens_details': {'audio_tokens': 0, 'cached_tokens': 0}}, 'model_name': 'gpt-3.5-turbo-0125', 'system_fingerprint': None, 'finish_reason': 'tool_calls', 'logprobs': None}, id='run-87b995d9-94de-4cfa-a54c-72b68a7801a0-0', tool_calls=[{'name': 'tavily_search_results_json', 'args': {'query': 'weather in Ankara'}, 'id': 'call_9w9l47t5k1h1ZSM5M8Sz3LQ5', 'type': 'tool_call'}], usage_metadata={'input_tokens': 152, 'output_tokens': 21, 'total_tokens': 173, 'input_token_details': {'audio': 0, 'cache_read': 0}, 'output_token_details': {'audio': 0, 'reasoning': 0}})"
      ]
     },
     "execution_count": 36,
     "metadata": {},
     "output_type": "execute_result"
    }
   ],
   "source": [
    "current_values.values[\"messages\"][-1]"
   ]
  },
  {
   "cell_type": "code",
   "execution_count": 37,
   "metadata": {},
   "outputs": [
    {
     "data": {
      "text/plain": [
       "[{'name': 'tavily_search_results_json',\n",
       "  'args': {'query': 'weather in Ankara'},\n",
       "  'id': 'call_9w9l47t5k1h1ZSM5M8Sz3LQ5',\n",
       "  'type': 'tool_call'}]"
      ]
     },
     "execution_count": 37,
     "metadata": {},
     "output_type": "execute_result"
    }
   ],
   "source": [
    "current_values.values[\"messages\"][-1].tool_calls"
   ]
  },
  {
   "cell_type": "code",
   "execution_count": 38,
   "metadata": {},
   "outputs": [],
   "source": [
    "_id = current_values.values[\"messages\"][-1].tool_calls[0][\"id\"]\n",
    "current_values.values[\"messages\"][-1].tool_calls = [\n",
    "    {\n",
    "        'name': 'tavily_search_results_json',\n",
    "        'args': {'query': 'weather in Kastamonu'},\n",
    "        'id': _id,\n",
    "        'type': 'tool_call'\n",
    "    }\n",
    "]"
   ]
  },
  {
   "cell_type": "code",
   "execution_count": 39,
   "metadata": {},
   "outputs": [
    {
     "data": {
      "text/plain": [
       "{'configurable': {'thread_id': '33',\n",
       "  'checkpoint_ns': '',\n",
       "  'checkpoint_id': '1efd3f31-5aeb-6da5-8002-7712153df1a4'}}"
      ]
     },
     "execution_count": 39,
     "metadata": {},
     "output_type": "execute_result"
    }
   ],
   "source": [
    "abot.graph.update_state(thread, current_values.values)"
   ]
  },
  {
   "cell_type": "code",
   "execution_count": 40,
   "metadata": {},
   "outputs": [
    {
     "data": {
      "text/plain": [
       "StateSnapshot(values={'messages': [HumanMessage(content='Whats the weather in Ankara?', additional_kwargs={}, response_metadata={}, id='ff0dc778-5113-43ea-ba65-4ecd1c3c6876'), AIMessage(content='', additional_kwargs={'tool_calls': [{'id': 'call_9w9l47t5k1h1ZSM5M8Sz3LQ5', 'function': {'arguments': '{\"query\":\"weather in Ankara\"}', 'name': 'tavily_search_results_json'}, 'type': 'function'}], 'refusal': None}, response_metadata={'token_usage': {'completion_tokens': 21, 'prompt_tokens': 152, 'total_tokens': 173, 'completion_tokens_details': {'accepted_prediction_tokens': 0, 'audio_tokens': 0, 'reasoning_tokens': 0, 'rejected_prediction_tokens': 0}, 'prompt_tokens_details': {'audio_tokens': 0, 'cached_tokens': 0}}, 'model_name': 'gpt-3.5-turbo-0125', 'system_fingerprint': None, 'finish_reason': 'tool_calls', 'logprobs': None}, id='run-87b995d9-94de-4cfa-a54c-72b68a7801a0-0', tool_calls=[{'name': 'tavily_search_results_json', 'args': {'query': 'weather in Kastamonu'}, 'id': 'call_9w9l47t5k1h1ZSM5M8Sz3LQ5', 'type': 'tool_call'}], usage_metadata={'input_tokens': 152, 'output_tokens': 21, 'total_tokens': 173, 'input_token_details': {'audio': 0, 'cache_read': 0}, 'output_token_details': {'audio': 0, 'reasoning': 0}})]}, next=('action',), config={'configurable': {'thread_id': '33', 'checkpoint_ns': '', 'checkpoint_id': '1efd3f31-5aeb-6da5-8002-7712153df1a4'}}, metadata={'source': 'update', 'writes': {'llm': {'messages': [HumanMessage(content='Whats the weather in Ankara?', additional_kwargs={}, response_metadata={}, id='ff0dc778-5113-43ea-ba65-4ecd1c3c6876'), AIMessage(content='', additional_kwargs={'tool_calls': [{'id': 'call_9w9l47t5k1h1ZSM5M8Sz3LQ5', 'function': {'arguments': '{\"query\":\"weather in Ankara\"}', 'name': 'tavily_search_results_json'}, 'type': 'function'}], 'refusal': None}, response_metadata={'token_usage': {'completion_tokens': 21, 'prompt_tokens': 152, 'total_tokens': 173, 'completion_tokens_details': {'accepted_prediction_tokens': 0, 'audio_tokens': 0, 'reasoning_tokens': 0, 'rejected_prediction_tokens': 0}, 'prompt_tokens_details': {'audio_tokens': 0, 'cached_tokens': 0}}, 'model_name': 'gpt-3.5-turbo-0125', 'system_fingerprint': None, 'finish_reason': 'tool_calls', 'logprobs': None}, id='run-87b995d9-94de-4cfa-a54c-72b68a7801a0-0', tool_calls=[{'name': 'tavily_search_results_json', 'args': {'query': 'weather in Kastamonu'}, 'id': 'call_9w9l47t5k1h1ZSM5M8Sz3LQ5', 'type': 'tool_call'}], usage_metadata={'input_tokens': 152, 'output_tokens': 21, 'total_tokens': 173, 'input_token_details': {'audio': 0, 'cache_read': 0}, 'output_token_details': {'audio': 0, 'reasoning': 0}})]}}, 'thread_id': '33', 'step': 2, 'parents': {}}, created_at='2025-01-16T10:17:26.606173+00:00', parent_config={'configurable': {'thread_id': '33', 'checkpoint_ns': '', 'checkpoint_id': '1efd3f10-a0e1-634f-8001-ea2f7bebf18b'}}, tasks=(PregelTask(id='d659259f-7527-18d3-6b4a-d0ef88d97650', name='action', path=('__pregel_pull', 'action'), error=None, interrupts=(), state=None, result=None),))"
      ]
     },
     "execution_count": 40,
     "metadata": {},
     "output_type": "execute_result"
    }
   ],
   "source": [
    "abot.graph.get_state(thread)"
   ]
  },
  {
   "cell_type": "code",
   "execution_count": 41,
   "metadata": {},
   "outputs": [
    {
     "name": "stdout",
     "output_type": "stream",
     "text": [
      "Calling: {'name': 'tavily_search_results_json', 'args': {'query': 'weather in Kastamonu'}, 'id': 'call_9w9l47t5k1h1ZSM5M8Sz3LQ5', 'type': 'tool_call'}\n",
      "Back to the model!\n",
      "{'messages': [ToolMessage(content='[{\\'url\\': \\'https://www.weatherapi.com/\\', \\'content\\': \"{\\'location\\': {\\'name\\': \\'Kastamonu\\', \\'region\\': \\'Kastamonu\\', \\'country\\': \\'Turkey\\', \\'lat\\': 41.3722, \\'lon\\': 33.7711, \\'tz_id\\': \\'Europe/Istanbul\\', \\'localtime_epoch\\': 1737022704, \\'localtime\\': \\'2025-01-16 13:18\\'}, \\'current\\': {\\'last_updated_epoch\\': 1737022500, \\'last_updated\\': \\'2025-01-16 13:15\\', \\'temp_c\\': -0.6, \\'temp_f\\': 30.9, \\'is_day\\': 1, \\'condition\\': {\\'text\\': \\'Light sleet\\', \\'icon\\': \\'//cdn.weatherapi.com/weather/64x64/day/317.png\\', \\'code\\': 1204}, \\'wind_mph\\': 3.8, \\'wind_kph\\': 6.1, \\'wind_degree\\': 312, \\'wind_dir\\': \\'NW\\', \\'pressure_mb\\': 1030.0, \\'pressure_in\\': 30.41, \\'precip_mm\\': 0.53, \\'precip_in\\': 0.02, \\'humidity\\': 97, \\'cloud\\': 100, \\'feelslike_c\\': -2.8, \\'feelslike_f\\': 27.0, \\'windchill_c\\': -2.8, \\'windchill_f\\': 27.0, \\'heatindex_c\\': -0.6, \\'heatindex_f\\': 30.9, \\'dewpoint_c\\': -1.1, \\'dewpoint_f\\': 30.0, \\'vis_km\\': 9.0, \\'vis_miles\\': 5.0, \\'uv\\': 0.2, \\'gust_mph\\': 7.8, \\'gust_kph\\': 12.5}}\"}, {\\'url\\': \\'https://weather.metoffice.gov.uk/forecast/sz252f862\\', \\'content\\': \\'Kastamonu 7 day weather forecast including weather warnings, temperature, rain, wind, visibility, humidity and UV. ... Friday (16 January 2025) Time: 00:00 01:00 02:00 03:00 06:00 09:00 12:00 15:00 18:00 21:00 Weather symbols: Chance of precipitation <5% <5% <5% 10% <5% <5% <5% <5% <5%\\'}]', name='tavily_search_results_json', id='f1abda31-1b2f-4bb9-93ec-1e2499897d3d', tool_call_id='call_9w9l47t5k1h1ZSM5M8Sz3LQ5')]}\n",
      "{'messages': [AIMessage(content='I have found the current weather information for Kastamonu, Turkey. The temperature is -0.6°C with light sleet conditions. The wind speed is 6.1 km/h from the northwest. The humidity is 97%.', additional_kwargs={'refusal': None}, response_metadata={'token_usage': {'completion_tokens': 51, 'prompt_tokens': 730, 'total_tokens': 781, 'completion_tokens_details': {'accepted_prediction_tokens': 0, 'audio_tokens': 0, 'reasoning_tokens': 0, 'rejected_prediction_tokens': 0}, 'prompt_tokens_details': {'audio_tokens': 0, 'cached_tokens': 0}}, 'model_name': 'gpt-3.5-turbo-0125', 'system_fingerprint': None, 'finish_reason': 'stop', 'logprobs': None}, id='run-5c44bac7-dce0-4116-8f51-eb1bf8b7e7df-0', usage_metadata={'input_tokens': 730, 'output_tokens': 51, 'total_tokens': 781, 'input_token_details': {'audio': 0, 'cache_read': 0}, 'output_token_details': {'audio': 0, 'reasoning': 0}})]}\n"
     ]
    }
   ],
   "source": [
    "for event in abot.graph.stream(None, thread):\n",
    "    for v in event.values():\n",
    "        print(v)"
   ]
  },
  {
   "cell_type": "code",
   "execution_count": 43,
   "metadata": {},
   "outputs": [
    {
     "data": {
      "text/plain": [
       "'I have found the current weather information for Kastamonu, Turkey. The temperature is -0.6°C with light sleet conditions. The wind speed is 6.1 km/h from the northwest. The humidity is 97%.'"
      ]
     },
     "execution_count": 43,
     "metadata": {},
     "output_type": "execute_result"
    }
   ],
   "source": [
    "abot.graph.get_state(thread).values[\"messages\"][-1].content"
   ]
  },
  {
   "cell_type": "code",
   "execution_count": 44,
   "metadata": {},
   "outputs": [
    {
     "name": "stdout",
     "output_type": "stream",
     "text": [
      "{'messages': [AIMessage(content=\"Based on the current weather in Kastamonu with a temperature of -0.6°C and light sleet conditions, it is recommended to wear warm and waterproof clothing. Here are some suggestions:\\n1. Dress in layers to stay warm.\\n2. Wear a waterproof jacket or coat to protect against the sleet.\\n3. Wear insulated and waterproof boots to keep your feet dry and warm.\\n4. Don't forget a hat, gloves, and a scarf to protect your head, hands, and neck from the cold.\\n5. Consider wearing thermal underwear for extra warmth.\\n\\nIt's important to dress warmly and protect yourself from the cold and wet conditions. Stay safe and comfortable!\", additional_kwargs={'refusal': None}, response_metadata={'token_usage': {'completion_tokens': 138, 'prompt_tokens': 797, 'total_tokens': 935, 'completion_tokens_details': {'accepted_prediction_tokens': 0, 'audio_tokens': 0, 'reasoning_tokens': 0, 'rejected_prediction_tokens': 0}, 'prompt_tokens_details': {'audio_tokens': 0, 'cached_tokens': 0}}, 'model_name': 'gpt-3.5-turbo-0125', 'system_fingerprint': None, 'finish_reason': 'stop', 'logprobs': None}, id='run-a3272c90-8c75-42b0-8cc3-88e0fcac05cb-0', usage_metadata={'input_tokens': 797, 'output_tokens': 138, 'total_tokens': 935, 'input_token_details': {'audio': 0, 'cache_read': 0}, 'output_token_details': {'audio': 0, 'reasoning': 0}})]}\n"
     ]
    }
   ],
   "source": [
    "messages = [HumanMessage(\"What should I wear today in Kastamonu\")]\n",
    "for event in abot.graph.stream({\"messages\": messages}, thread):\n",
    "    for v in event.values():\n",
    "        print(v)"
   ]
  },
  {
   "cell_type": "code",
   "execution_count": 45,
   "metadata": {},
   "outputs": [
    {
     "data": {
      "text/plain": [
       "\"Based on the current weather in Kastamonu with a temperature of -0.6°C and light sleet conditions, it is recommended to wear warm and waterproof clothing. Here are some suggestions:\\n1. Dress in layers to stay warm.\\n2. Wear a waterproof jacket or coat to protect against the sleet.\\n3. Wear insulated and waterproof boots to keep your feet dry and warm.\\n4. Don't forget a hat, gloves, and a scarf to protect your head, hands, and neck from the cold.\\n5. Consider wearing thermal underwear for extra warmth.\\n\\nIt's important to dress warmly and protect yourself from the cold and wet conditions. Stay safe and comfortable!\""
      ]
     },
     "execution_count": 45,
     "metadata": {},
     "output_type": "execute_result"
    }
   ],
   "source": [
    "abot.graph.get_state(thread).values[\"messages\"][-1].content"
   ]
  },
  {
   "cell_type": "markdown",
   "metadata": {},
   "source": [
    "### Time Travel"
   ]
  },
  {
   "cell_type": "code",
   "execution_count": 46,
   "metadata": {},
   "outputs": [
    {
     "name": "stdout",
     "output_type": "stream",
     "text": [
      "StateSnapshot(values={'messages': [HumanMessage(content='Whats the weather in Ankara?', additional_kwargs={}, response_metadata={}, id='ff0dc778-5113-43ea-ba65-4ecd1c3c6876'), AIMessage(content='', additional_kwargs={'tool_calls': [{'id': 'call_9w9l47t5k1h1ZSM5M8Sz3LQ5', 'function': {'arguments': '{\"query\":\"weather in Ankara\"}', 'name': 'tavily_search_results_json'}, 'type': 'function'}], 'refusal': None}, response_metadata={'token_usage': {'completion_tokens': 21, 'prompt_tokens': 152, 'total_tokens': 173, 'completion_tokens_details': {'accepted_prediction_tokens': 0, 'audio_tokens': 0, 'reasoning_tokens': 0, 'rejected_prediction_tokens': 0}, 'prompt_tokens_details': {'audio_tokens': 0, 'cached_tokens': 0}}, 'model_name': 'gpt-3.5-turbo-0125', 'system_fingerprint': None, 'finish_reason': 'tool_calls', 'logprobs': None}, id='run-87b995d9-94de-4cfa-a54c-72b68a7801a0-0', tool_calls=[{'name': 'tavily_search_results_json', 'args': {'query': 'weather in Kastamonu'}, 'id': 'call_9w9l47t5k1h1ZSM5M8Sz3LQ5', 'type': 'tool_call'}], usage_metadata={'input_tokens': 152, 'output_tokens': 21, 'total_tokens': 173, 'input_token_details': {'audio': 0, 'cache_read': 0}, 'output_token_details': {'audio': 0, 'reasoning': 0}}), ToolMessage(content='[{\\'url\\': \\'https://www.weatherapi.com/\\', \\'content\\': \"{\\'location\\': {\\'name\\': \\'Kastamonu\\', \\'region\\': \\'Kastamonu\\', \\'country\\': \\'Turkey\\', \\'lat\\': 41.3722, \\'lon\\': 33.7711, \\'tz_id\\': \\'Europe/Istanbul\\', \\'localtime_epoch\\': 1737022704, \\'localtime\\': \\'2025-01-16 13:18\\'}, \\'current\\': {\\'last_updated_epoch\\': 1737022500, \\'last_updated\\': \\'2025-01-16 13:15\\', \\'temp_c\\': -0.6, \\'temp_f\\': 30.9, \\'is_day\\': 1, \\'condition\\': {\\'text\\': \\'Light sleet\\', \\'icon\\': \\'//cdn.weatherapi.com/weather/64x64/day/317.png\\', \\'code\\': 1204}, \\'wind_mph\\': 3.8, \\'wind_kph\\': 6.1, \\'wind_degree\\': 312, \\'wind_dir\\': \\'NW\\', \\'pressure_mb\\': 1030.0, \\'pressure_in\\': 30.41, \\'precip_mm\\': 0.53, \\'precip_in\\': 0.02, \\'humidity\\': 97, \\'cloud\\': 100, \\'feelslike_c\\': -2.8, \\'feelslike_f\\': 27.0, \\'windchill_c\\': -2.8, \\'windchill_f\\': 27.0, \\'heatindex_c\\': -0.6, \\'heatindex_f\\': 30.9, \\'dewpoint_c\\': -1.1, \\'dewpoint_f\\': 30.0, \\'vis_km\\': 9.0, \\'vis_miles\\': 5.0, \\'uv\\': 0.2, \\'gust_mph\\': 7.8, \\'gust_kph\\': 12.5}}\"}, {\\'url\\': \\'https://weather.metoffice.gov.uk/forecast/sz252f862\\', \\'content\\': \\'Kastamonu 7 day weather forecast including weather warnings, temperature, rain, wind, visibility, humidity and UV. ... Friday (16 January 2025) Time: 00:00 01:00 02:00 03:00 06:00 09:00 12:00 15:00 18:00 21:00 Weather symbols: Chance of precipitation <5% <5% <5% 10% <5% <5% <5% <5% <5%\\'}]', name='tavily_search_results_json', id='f1abda31-1b2f-4bb9-93ec-1e2499897d3d', tool_call_id='call_9w9l47t5k1h1ZSM5M8Sz3LQ5'), AIMessage(content='I have found the current weather information for Kastamonu, Turkey. The temperature is -0.6°C with light sleet conditions. The wind speed is 6.1 km/h from the northwest. The humidity is 97%.', additional_kwargs={'refusal': None}, response_metadata={'token_usage': {'completion_tokens': 51, 'prompt_tokens': 730, 'total_tokens': 781, 'completion_tokens_details': {'accepted_prediction_tokens': 0, 'audio_tokens': 0, 'reasoning_tokens': 0, 'rejected_prediction_tokens': 0}, 'prompt_tokens_details': {'audio_tokens': 0, 'cached_tokens': 0}}, 'model_name': 'gpt-3.5-turbo-0125', 'system_fingerprint': None, 'finish_reason': 'stop', 'logprobs': None}, id='run-5c44bac7-dce0-4116-8f51-eb1bf8b7e7df-0', usage_metadata={'input_tokens': 730, 'output_tokens': 51, 'total_tokens': 781, 'input_token_details': {'audio': 0, 'cache_read': 0}, 'output_token_details': {'audio': 0, 'reasoning': 0}}), HumanMessage(content='What should I wear today in Kastamonu', additional_kwargs={}, response_metadata={}, id='945eec6b-db11-45e1-8cdd-716d69903073'), AIMessage(content=\"Based on the current weather in Kastamonu with a temperature of -0.6°C and light sleet conditions, it is recommended to wear warm and waterproof clothing. Here are some suggestions:\\n1. Dress in layers to stay warm.\\n2. Wear a waterproof jacket or coat to protect against the sleet.\\n3. Wear insulated and waterproof boots to keep your feet dry and warm.\\n4. Don't forget a hat, gloves, and a scarf to protect your head, hands, and neck from the cold.\\n5. Consider wearing thermal underwear for extra warmth.\\n\\nIt's important to dress warmly and protect yourself from the cold and wet conditions. Stay safe and comfortable!\", additional_kwargs={'refusal': None}, response_metadata={'token_usage': {'completion_tokens': 138, 'prompt_tokens': 797, 'total_tokens': 935, 'completion_tokens_details': {'accepted_prediction_tokens': 0, 'audio_tokens': 0, 'reasoning_tokens': 0, 'rejected_prediction_tokens': 0}, 'prompt_tokens_details': {'audio_tokens': 0, 'cached_tokens': 0}}, 'model_name': 'gpt-3.5-turbo-0125', 'system_fingerprint': None, 'finish_reason': 'stop', 'logprobs': None}, id='run-a3272c90-8c75-42b0-8cc3-88e0fcac05cb-0', usage_metadata={'input_tokens': 797, 'output_tokens': 138, 'total_tokens': 935, 'input_token_details': {'audio': 0, 'cache_read': 0}, 'output_token_details': {'audio': 0, 'reasoning': 0}})]}, next=(), config={'configurable': {'thread_id': '33', 'checkpoint_ns': '', 'checkpoint_id': '1efd3f39-bbfe-6b66-8007-f5cff53b6d1e'}}, metadata={'source': 'loop', 'writes': {'llm': {'messages': [AIMessage(content=\"Based on the current weather in Kastamonu with a temperature of -0.6°C and light sleet conditions, it is recommended to wear warm and waterproof clothing. Here are some suggestions:\\n1. Dress in layers to stay warm.\\n2. Wear a waterproof jacket or coat to protect against the sleet.\\n3. Wear insulated and waterproof boots to keep your feet dry and warm.\\n4. Don't forget a hat, gloves, and a scarf to protect your head, hands, and neck from the cold.\\n5. Consider wearing thermal underwear for extra warmth.\\n\\nIt's important to dress warmly and protect yourself from the cold and wet conditions. Stay safe and comfortable!\", additional_kwargs={'refusal': None}, response_metadata={'token_usage': {'completion_tokens': 138, 'prompt_tokens': 797, 'total_tokens': 935, 'completion_tokens_details': {'accepted_prediction_tokens': 0, 'audio_tokens': 0, 'reasoning_tokens': 0, 'rejected_prediction_tokens': 0}, 'prompt_tokens_details': {'audio_tokens': 0, 'cached_tokens': 0}}, 'model_name': 'gpt-3.5-turbo-0125', 'system_fingerprint': None, 'finish_reason': 'stop', 'logprobs': None}, id='run-a3272c90-8c75-42b0-8cc3-88e0fcac05cb-0', usage_metadata={'input_tokens': 797, 'output_tokens': 138, 'total_tokens': 935, 'input_token_details': {'audio': 0, 'cache_read': 0}, 'output_token_details': {'audio': 0, 'reasoning': 0}})]}}, 'thread_id': '33', 'step': 7, 'parents': {}}, created_at='2025-01-16T10:21:11.533450+00:00', parent_config={'configurable': {'thread_id': '33', 'checkpoint_ns': '', 'checkpoint_id': '1efd3f39-acfb-6af9-8006-a1bb3c38f191'}}, tasks=())\n",
      "--\n",
      "StateSnapshot(values={'messages': [HumanMessage(content='Whats the weather in Ankara?', additional_kwargs={}, response_metadata={}, id='ff0dc778-5113-43ea-ba65-4ecd1c3c6876'), AIMessage(content='', additional_kwargs={'tool_calls': [{'id': 'call_9w9l47t5k1h1ZSM5M8Sz3LQ5', 'function': {'arguments': '{\"query\":\"weather in Ankara\"}', 'name': 'tavily_search_results_json'}, 'type': 'function'}], 'refusal': None}, response_metadata={'token_usage': {'completion_tokens': 21, 'prompt_tokens': 152, 'total_tokens': 173, 'completion_tokens_details': {'accepted_prediction_tokens': 0, 'audio_tokens': 0, 'reasoning_tokens': 0, 'rejected_prediction_tokens': 0}, 'prompt_tokens_details': {'audio_tokens': 0, 'cached_tokens': 0}}, 'model_name': 'gpt-3.5-turbo-0125', 'system_fingerprint': None, 'finish_reason': 'tool_calls', 'logprobs': None}, id='run-87b995d9-94de-4cfa-a54c-72b68a7801a0-0', tool_calls=[{'name': 'tavily_search_results_json', 'args': {'query': 'weather in Kastamonu'}, 'id': 'call_9w9l47t5k1h1ZSM5M8Sz3LQ5', 'type': 'tool_call'}], usage_metadata={'input_tokens': 152, 'output_tokens': 21, 'total_tokens': 173, 'input_token_details': {'audio': 0, 'cache_read': 0}, 'output_token_details': {'audio': 0, 'reasoning': 0}}), ToolMessage(content='[{\\'url\\': \\'https://www.weatherapi.com/\\', \\'content\\': \"{\\'location\\': {\\'name\\': \\'Kastamonu\\', \\'region\\': \\'Kastamonu\\', \\'country\\': \\'Turkey\\', \\'lat\\': 41.3722, \\'lon\\': 33.7711, \\'tz_id\\': \\'Europe/Istanbul\\', \\'localtime_epoch\\': 1737022704, \\'localtime\\': \\'2025-01-16 13:18\\'}, \\'current\\': {\\'last_updated_epoch\\': 1737022500, \\'last_updated\\': \\'2025-01-16 13:15\\', \\'temp_c\\': -0.6, \\'temp_f\\': 30.9, \\'is_day\\': 1, \\'condition\\': {\\'text\\': \\'Light sleet\\', \\'icon\\': \\'//cdn.weatherapi.com/weather/64x64/day/317.png\\', \\'code\\': 1204}, \\'wind_mph\\': 3.8, \\'wind_kph\\': 6.1, \\'wind_degree\\': 312, \\'wind_dir\\': \\'NW\\', \\'pressure_mb\\': 1030.0, \\'pressure_in\\': 30.41, \\'precip_mm\\': 0.53, \\'precip_in\\': 0.02, \\'humidity\\': 97, \\'cloud\\': 100, \\'feelslike_c\\': -2.8, \\'feelslike_f\\': 27.0, \\'windchill_c\\': -2.8, \\'windchill_f\\': 27.0, \\'heatindex_c\\': -0.6, \\'heatindex_f\\': 30.9, \\'dewpoint_c\\': -1.1, \\'dewpoint_f\\': 30.0, \\'vis_km\\': 9.0, \\'vis_miles\\': 5.0, \\'uv\\': 0.2, \\'gust_mph\\': 7.8, \\'gust_kph\\': 12.5}}\"}, {\\'url\\': \\'https://weather.metoffice.gov.uk/forecast/sz252f862\\', \\'content\\': \\'Kastamonu 7 day weather forecast including weather warnings, temperature, rain, wind, visibility, humidity and UV. ... Friday (16 January 2025) Time: 00:00 01:00 02:00 03:00 06:00 09:00 12:00 15:00 18:00 21:00 Weather symbols: Chance of precipitation <5% <5% <5% 10% <5% <5% <5% <5% <5%\\'}]', name='tavily_search_results_json', id='f1abda31-1b2f-4bb9-93ec-1e2499897d3d', tool_call_id='call_9w9l47t5k1h1ZSM5M8Sz3LQ5'), AIMessage(content='I have found the current weather information for Kastamonu, Turkey. The temperature is -0.6°C with light sleet conditions. The wind speed is 6.1 km/h from the northwest. The humidity is 97%.', additional_kwargs={'refusal': None}, response_metadata={'token_usage': {'completion_tokens': 51, 'prompt_tokens': 730, 'total_tokens': 781, 'completion_tokens_details': {'accepted_prediction_tokens': 0, 'audio_tokens': 0, 'reasoning_tokens': 0, 'rejected_prediction_tokens': 0}, 'prompt_tokens_details': {'audio_tokens': 0, 'cached_tokens': 0}}, 'model_name': 'gpt-3.5-turbo-0125', 'system_fingerprint': None, 'finish_reason': 'stop', 'logprobs': None}, id='run-5c44bac7-dce0-4116-8f51-eb1bf8b7e7df-0', usage_metadata={'input_tokens': 730, 'output_tokens': 51, 'total_tokens': 781, 'input_token_details': {'audio': 0, 'cache_read': 0}, 'output_token_details': {'audio': 0, 'reasoning': 0}}), HumanMessage(content='What should I wear today in Kastamonu', additional_kwargs={}, response_metadata={}, id='945eec6b-db11-45e1-8cdd-716d69903073')]}, next=('llm',), config={'configurable': {'thread_id': '33', 'checkpoint_ns': '', 'checkpoint_id': '1efd3f39-acfb-6af9-8006-a1bb3c38f191'}}, metadata={'source': 'loop', 'writes': None, 'thread_id': '33', 'step': 6, 'parents': {}}, created_at='2025-01-16T10:21:09.959346+00:00', parent_config={'configurable': {'thread_id': '33', 'checkpoint_ns': '', 'checkpoint_id': '1efd3f39-acf4-6574-8005-09a433593e51'}}, tasks=(PregelTask(id='1c9f2c9c-b7f7-54bb-26b4-e4bb477404b2', name='llm', path=('__pregel_pull', 'llm'), error=None, interrupts=(), state=None, result={'messages': [AIMessage(content=\"Based on the current weather in Kastamonu with a temperature of -0.6°C and light sleet conditions, it is recommended to wear warm and waterproof clothing. Here are some suggestions:\\n1. Dress in layers to stay warm.\\n2. Wear a waterproof jacket or coat to protect against the sleet.\\n3. Wear insulated and waterproof boots to keep your feet dry and warm.\\n4. Don't forget a hat, gloves, and a scarf to protect your head, hands, and neck from the cold.\\n5. Consider wearing thermal underwear for extra warmth.\\n\\nIt's important to dress warmly and protect yourself from the cold and wet conditions. Stay safe and comfortable!\", additional_kwargs={'refusal': None}, response_metadata={'token_usage': {'completion_tokens': 138, 'prompt_tokens': 797, 'total_tokens': 935, 'completion_tokens_details': {'accepted_prediction_tokens': 0, 'audio_tokens': 0, 'reasoning_tokens': 0, 'rejected_prediction_tokens': 0}, 'prompt_tokens_details': {'audio_tokens': 0, 'cached_tokens': 0}}, 'model_name': 'gpt-3.5-turbo-0125', 'system_fingerprint': None, 'finish_reason': 'stop', 'logprobs': None}, id='run-a3272c90-8c75-42b0-8cc3-88e0fcac05cb-0', usage_metadata={'input_tokens': 797, 'output_tokens': 138, 'total_tokens': 935, 'input_token_details': {'audio': 0, 'cache_read': 0}, 'output_token_details': {'audio': 0, 'reasoning': 0}})]}),))\n",
      "--\n",
      "StateSnapshot(values={'messages': [HumanMessage(content='Whats the weather in Ankara?', additional_kwargs={}, response_metadata={}, id='ff0dc778-5113-43ea-ba65-4ecd1c3c6876'), AIMessage(content='', additional_kwargs={'tool_calls': [{'id': 'call_9w9l47t5k1h1ZSM5M8Sz3LQ5', 'function': {'arguments': '{\"query\":\"weather in Ankara\"}', 'name': 'tavily_search_results_json'}, 'type': 'function'}], 'refusal': None}, response_metadata={'token_usage': {'completion_tokens': 21, 'prompt_tokens': 152, 'total_tokens': 173, 'completion_tokens_details': {'accepted_prediction_tokens': 0, 'audio_tokens': 0, 'reasoning_tokens': 0, 'rejected_prediction_tokens': 0}, 'prompt_tokens_details': {'audio_tokens': 0, 'cached_tokens': 0}}, 'model_name': 'gpt-3.5-turbo-0125', 'system_fingerprint': None, 'finish_reason': 'tool_calls', 'logprobs': None}, id='run-87b995d9-94de-4cfa-a54c-72b68a7801a0-0', tool_calls=[{'name': 'tavily_search_results_json', 'args': {'query': 'weather in Kastamonu'}, 'id': 'call_9w9l47t5k1h1ZSM5M8Sz3LQ5', 'type': 'tool_call'}], usage_metadata={'input_tokens': 152, 'output_tokens': 21, 'total_tokens': 173, 'input_token_details': {'audio': 0, 'cache_read': 0}, 'output_token_details': {'audio': 0, 'reasoning': 0}}), ToolMessage(content='[{\\'url\\': \\'https://www.weatherapi.com/\\', \\'content\\': \"{\\'location\\': {\\'name\\': \\'Kastamonu\\', \\'region\\': \\'Kastamonu\\', \\'country\\': \\'Turkey\\', \\'lat\\': 41.3722, \\'lon\\': 33.7711, \\'tz_id\\': \\'Europe/Istanbul\\', \\'localtime_epoch\\': 1737022704, \\'localtime\\': \\'2025-01-16 13:18\\'}, \\'current\\': {\\'last_updated_epoch\\': 1737022500, \\'last_updated\\': \\'2025-01-16 13:15\\', \\'temp_c\\': -0.6, \\'temp_f\\': 30.9, \\'is_day\\': 1, \\'condition\\': {\\'text\\': \\'Light sleet\\', \\'icon\\': \\'//cdn.weatherapi.com/weather/64x64/day/317.png\\', \\'code\\': 1204}, \\'wind_mph\\': 3.8, \\'wind_kph\\': 6.1, \\'wind_degree\\': 312, \\'wind_dir\\': \\'NW\\', \\'pressure_mb\\': 1030.0, \\'pressure_in\\': 30.41, \\'precip_mm\\': 0.53, \\'precip_in\\': 0.02, \\'humidity\\': 97, \\'cloud\\': 100, \\'feelslike_c\\': -2.8, \\'feelslike_f\\': 27.0, \\'windchill_c\\': -2.8, \\'windchill_f\\': 27.0, \\'heatindex_c\\': -0.6, \\'heatindex_f\\': 30.9, \\'dewpoint_c\\': -1.1, \\'dewpoint_f\\': 30.0, \\'vis_km\\': 9.0, \\'vis_miles\\': 5.0, \\'uv\\': 0.2, \\'gust_mph\\': 7.8, \\'gust_kph\\': 12.5}}\"}, {\\'url\\': \\'https://weather.metoffice.gov.uk/forecast/sz252f862\\', \\'content\\': \\'Kastamonu 7 day weather forecast including weather warnings, temperature, rain, wind, visibility, humidity and UV. ... Friday (16 January 2025) Time: 00:00 01:00 02:00 03:00 06:00 09:00 12:00 15:00 18:00 21:00 Weather symbols: Chance of precipitation <5% <5% <5% 10% <5% <5% <5% <5% <5%\\'}]', name='tavily_search_results_json', id='f1abda31-1b2f-4bb9-93ec-1e2499897d3d', tool_call_id='call_9w9l47t5k1h1ZSM5M8Sz3LQ5'), AIMessage(content='I have found the current weather information for Kastamonu, Turkey. The temperature is -0.6°C with light sleet conditions. The wind speed is 6.1 km/h from the northwest. The humidity is 97%.', additional_kwargs={'refusal': None}, response_metadata={'token_usage': {'completion_tokens': 51, 'prompt_tokens': 730, 'total_tokens': 781, 'completion_tokens_details': {'accepted_prediction_tokens': 0, 'audio_tokens': 0, 'reasoning_tokens': 0, 'rejected_prediction_tokens': 0}, 'prompt_tokens_details': {'audio_tokens': 0, 'cached_tokens': 0}}, 'model_name': 'gpt-3.5-turbo-0125', 'system_fingerprint': None, 'finish_reason': 'stop', 'logprobs': None}, id='run-5c44bac7-dce0-4116-8f51-eb1bf8b7e7df-0', usage_metadata={'input_tokens': 730, 'output_tokens': 51, 'total_tokens': 781, 'input_token_details': {'audio': 0, 'cache_read': 0}, 'output_token_details': {'audio': 0, 'reasoning': 0}})]}, next=('__start__',), config={'configurable': {'thread_id': '33', 'checkpoint_ns': '', 'checkpoint_id': '1efd3f39-acf4-6574-8005-09a433593e51'}}, metadata={'source': 'input', 'writes': {'__start__': {'messages': [HumanMessage(content='What should I wear today in Kastamonu', additional_kwargs={}, response_metadata={})]}}, 'thread_id': '33', 'step': 5, 'parents': {}}, created_at='2025-01-16T10:21:09.956338+00:00', parent_config={'configurable': {'thread_id': '33', 'checkpoint_ns': '', 'checkpoint_id': '1efd3f33-cdf6-6dbd-8004-fbf8a13ff6cb'}}, tasks=(PregelTask(id='95d5e4b0-3bfa-9d33-d995-fbb4b7215e94', name='__start__', path=('__pregel_pull', '__start__'), error=None, interrupts=(), state=None, result={'messages': [HumanMessage(content='What should I wear today in Kastamonu', additional_kwargs={}, response_metadata={}, id='945eec6b-db11-45e1-8cdd-716d69903073')]}),))\n",
      "--\n",
      "StateSnapshot(values={'messages': [HumanMessage(content='Whats the weather in Ankara?', additional_kwargs={}, response_metadata={}, id='ff0dc778-5113-43ea-ba65-4ecd1c3c6876'), AIMessage(content='', additional_kwargs={'tool_calls': [{'id': 'call_9w9l47t5k1h1ZSM5M8Sz3LQ5', 'function': {'arguments': '{\"query\":\"weather in Ankara\"}', 'name': 'tavily_search_results_json'}, 'type': 'function'}], 'refusal': None}, response_metadata={'token_usage': {'completion_tokens': 21, 'prompt_tokens': 152, 'total_tokens': 173, 'completion_tokens_details': {'accepted_prediction_tokens': 0, 'audio_tokens': 0, 'reasoning_tokens': 0, 'rejected_prediction_tokens': 0}, 'prompt_tokens_details': {'audio_tokens': 0, 'cached_tokens': 0}}, 'model_name': 'gpt-3.5-turbo-0125', 'system_fingerprint': None, 'finish_reason': 'tool_calls', 'logprobs': None}, id='run-87b995d9-94de-4cfa-a54c-72b68a7801a0-0', tool_calls=[{'name': 'tavily_search_results_json', 'args': {'query': 'weather in Kastamonu'}, 'id': 'call_9w9l47t5k1h1ZSM5M8Sz3LQ5', 'type': 'tool_call'}], usage_metadata={'input_tokens': 152, 'output_tokens': 21, 'total_tokens': 173, 'input_token_details': {'audio': 0, 'cache_read': 0}, 'output_token_details': {'audio': 0, 'reasoning': 0}}), ToolMessage(content='[{\\'url\\': \\'https://www.weatherapi.com/\\', \\'content\\': \"{\\'location\\': {\\'name\\': \\'Kastamonu\\', \\'region\\': \\'Kastamonu\\', \\'country\\': \\'Turkey\\', \\'lat\\': 41.3722, \\'lon\\': 33.7711, \\'tz_id\\': \\'Europe/Istanbul\\', \\'localtime_epoch\\': 1737022704, \\'localtime\\': \\'2025-01-16 13:18\\'}, \\'current\\': {\\'last_updated_epoch\\': 1737022500, \\'last_updated\\': \\'2025-01-16 13:15\\', \\'temp_c\\': -0.6, \\'temp_f\\': 30.9, \\'is_day\\': 1, \\'condition\\': {\\'text\\': \\'Light sleet\\', \\'icon\\': \\'//cdn.weatherapi.com/weather/64x64/day/317.png\\', \\'code\\': 1204}, \\'wind_mph\\': 3.8, \\'wind_kph\\': 6.1, \\'wind_degree\\': 312, \\'wind_dir\\': \\'NW\\', \\'pressure_mb\\': 1030.0, \\'pressure_in\\': 30.41, \\'precip_mm\\': 0.53, \\'precip_in\\': 0.02, \\'humidity\\': 97, \\'cloud\\': 100, \\'feelslike_c\\': -2.8, \\'feelslike_f\\': 27.0, \\'windchill_c\\': -2.8, \\'windchill_f\\': 27.0, \\'heatindex_c\\': -0.6, \\'heatindex_f\\': 30.9, \\'dewpoint_c\\': -1.1, \\'dewpoint_f\\': 30.0, \\'vis_km\\': 9.0, \\'vis_miles\\': 5.0, \\'uv\\': 0.2, \\'gust_mph\\': 7.8, \\'gust_kph\\': 12.5}}\"}, {\\'url\\': \\'https://weather.metoffice.gov.uk/forecast/sz252f862\\', \\'content\\': \\'Kastamonu 7 day weather forecast including weather warnings, temperature, rain, wind, visibility, humidity and UV. ... Friday (16 January 2025) Time: 00:00 01:00 02:00 03:00 06:00 09:00 12:00 15:00 18:00 21:00 Weather symbols: Chance of precipitation <5% <5% <5% 10% <5% <5% <5% <5% <5%\\'}]', name='tavily_search_results_json', id='f1abda31-1b2f-4bb9-93ec-1e2499897d3d', tool_call_id='call_9w9l47t5k1h1ZSM5M8Sz3LQ5'), AIMessage(content='I have found the current weather information for Kastamonu, Turkey. The temperature is -0.6°C with light sleet conditions. The wind speed is 6.1 km/h from the northwest. The humidity is 97%.', additional_kwargs={'refusal': None}, response_metadata={'token_usage': {'completion_tokens': 51, 'prompt_tokens': 730, 'total_tokens': 781, 'completion_tokens_details': {'accepted_prediction_tokens': 0, 'audio_tokens': 0, 'reasoning_tokens': 0, 'rejected_prediction_tokens': 0}, 'prompt_tokens_details': {'audio_tokens': 0, 'cached_tokens': 0}}, 'model_name': 'gpt-3.5-turbo-0125', 'system_fingerprint': None, 'finish_reason': 'stop', 'logprobs': None}, id='run-5c44bac7-dce0-4116-8f51-eb1bf8b7e7df-0', usage_metadata={'input_tokens': 730, 'output_tokens': 51, 'total_tokens': 781, 'input_token_details': {'audio': 0, 'cache_read': 0}, 'output_token_details': {'audio': 0, 'reasoning': 0}})]}, next=(), config={'configurable': {'thread_id': '33', 'checkpoint_ns': '', 'checkpoint_id': '1efd3f33-cdf6-6dbd-8004-fbf8a13ff6cb'}}, metadata={'source': 'loop', 'writes': {'llm': {'messages': [AIMessage(content='I have found the current weather information for Kastamonu, Turkey. The temperature is -0.6°C with light sleet conditions. The wind speed is 6.1 km/h from the northwest. The humidity is 97%.', additional_kwargs={'refusal': None}, response_metadata={'token_usage': {'completion_tokens': 51, 'prompt_tokens': 730, 'total_tokens': 781, 'completion_tokens_details': {'accepted_prediction_tokens': 0, 'audio_tokens': 0, 'reasoning_tokens': 0, 'rejected_prediction_tokens': 0}, 'prompt_tokens_details': {'audio_tokens': 0, 'cached_tokens': 0}}, 'model_name': 'gpt-3.5-turbo-0125', 'system_fingerprint': None, 'finish_reason': 'stop', 'logprobs': None}, id='run-5c44bac7-dce0-4116-8f51-eb1bf8b7e7df-0', usage_metadata={'input_tokens': 730, 'output_tokens': 51, 'total_tokens': 781, 'input_token_details': {'audio': 0, 'cache_read': 0}, 'output_token_details': {'audio': 0, 'reasoning': 0}})]}}, 'thread_id': '33', 'step': 4, 'parents': {}}, created_at='2025-01-16T10:18:32.356396+00:00', parent_config={'configurable': {'thread_id': '33', 'checkpoint_ns': '', 'checkpoint_id': '1efd3f33-c30c-6336-8003-7991d2de1cc6'}}, tasks=())\n",
      "--\n",
      "StateSnapshot(values={'messages': [HumanMessage(content='Whats the weather in Ankara?', additional_kwargs={}, response_metadata={}, id='ff0dc778-5113-43ea-ba65-4ecd1c3c6876'), AIMessage(content='', additional_kwargs={'tool_calls': [{'id': 'call_9w9l47t5k1h1ZSM5M8Sz3LQ5', 'function': {'arguments': '{\"query\":\"weather in Ankara\"}', 'name': 'tavily_search_results_json'}, 'type': 'function'}], 'refusal': None}, response_metadata={'token_usage': {'completion_tokens': 21, 'prompt_tokens': 152, 'total_tokens': 173, 'completion_tokens_details': {'accepted_prediction_tokens': 0, 'audio_tokens': 0, 'reasoning_tokens': 0, 'rejected_prediction_tokens': 0}, 'prompt_tokens_details': {'audio_tokens': 0, 'cached_tokens': 0}}, 'model_name': 'gpt-3.5-turbo-0125', 'system_fingerprint': None, 'finish_reason': 'tool_calls', 'logprobs': None}, id='run-87b995d9-94de-4cfa-a54c-72b68a7801a0-0', tool_calls=[{'name': 'tavily_search_results_json', 'args': {'query': 'weather in Kastamonu'}, 'id': 'call_9w9l47t5k1h1ZSM5M8Sz3LQ5', 'type': 'tool_call'}], usage_metadata={'input_tokens': 152, 'output_tokens': 21, 'total_tokens': 173, 'input_token_details': {'audio': 0, 'cache_read': 0}, 'output_token_details': {'audio': 0, 'reasoning': 0}}), ToolMessage(content='[{\\'url\\': \\'https://www.weatherapi.com/\\', \\'content\\': \"{\\'location\\': {\\'name\\': \\'Kastamonu\\', \\'region\\': \\'Kastamonu\\', \\'country\\': \\'Turkey\\', \\'lat\\': 41.3722, \\'lon\\': 33.7711, \\'tz_id\\': \\'Europe/Istanbul\\', \\'localtime_epoch\\': 1737022704, \\'localtime\\': \\'2025-01-16 13:18\\'}, \\'current\\': {\\'last_updated_epoch\\': 1737022500, \\'last_updated\\': \\'2025-01-16 13:15\\', \\'temp_c\\': -0.6, \\'temp_f\\': 30.9, \\'is_day\\': 1, \\'condition\\': {\\'text\\': \\'Light sleet\\', \\'icon\\': \\'//cdn.weatherapi.com/weather/64x64/day/317.png\\', \\'code\\': 1204}, \\'wind_mph\\': 3.8, \\'wind_kph\\': 6.1, \\'wind_degree\\': 312, \\'wind_dir\\': \\'NW\\', \\'pressure_mb\\': 1030.0, \\'pressure_in\\': 30.41, \\'precip_mm\\': 0.53, \\'precip_in\\': 0.02, \\'humidity\\': 97, \\'cloud\\': 100, \\'feelslike_c\\': -2.8, \\'feelslike_f\\': 27.0, \\'windchill_c\\': -2.8, \\'windchill_f\\': 27.0, \\'heatindex_c\\': -0.6, \\'heatindex_f\\': 30.9, \\'dewpoint_c\\': -1.1, \\'dewpoint_f\\': 30.0, \\'vis_km\\': 9.0, \\'vis_miles\\': 5.0, \\'uv\\': 0.2, \\'gust_mph\\': 7.8, \\'gust_kph\\': 12.5}}\"}, {\\'url\\': \\'https://weather.metoffice.gov.uk/forecast/sz252f862\\', \\'content\\': \\'Kastamonu 7 day weather forecast including weather warnings, temperature, rain, wind, visibility, humidity and UV. ... Friday (16 January 2025) Time: 00:00 01:00 02:00 03:00 06:00 09:00 12:00 15:00 18:00 21:00 Weather symbols: Chance of precipitation <5% <5% <5% 10% <5% <5% <5% <5% <5%\\'}]', name='tavily_search_results_json', id='f1abda31-1b2f-4bb9-93ec-1e2499897d3d', tool_call_id='call_9w9l47t5k1h1ZSM5M8Sz3LQ5')]}, next=('llm',), config={'configurable': {'thread_id': '33', 'checkpoint_ns': '', 'checkpoint_id': '1efd3f33-c30c-6336-8003-7991d2de1cc6'}}, metadata={'source': 'loop', 'writes': {'action': {'messages': [ToolMessage(content='[{\\'url\\': \\'https://www.weatherapi.com/\\', \\'content\\': \"{\\'location\\': {\\'name\\': \\'Kastamonu\\', \\'region\\': \\'Kastamonu\\', \\'country\\': \\'Turkey\\', \\'lat\\': 41.3722, \\'lon\\': 33.7711, \\'tz_id\\': \\'Europe/Istanbul\\', \\'localtime_epoch\\': 1737022704, \\'localtime\\': \\'2025-01-16 13:18\\'}, \\'current\\': {\\'last_updated_epoch\\': 1737022500, \\'last_updated\\': \\'2025-01-16 13:15\\', \\'temp_c\\': -0.6, \\'temp_f\\': 30.9, \\'is_day\\': 1, \\'condition\\': {\\'text\\': \\'Light sleet\\', \\'icon\\': \\'//cdn.weatherapi.com/weather/64x64/day/317.png\\', \\'code\\': 1204}, \\'wind_mph\\': 3.8, \\'wind_kph\\': 6.1, \\'wind_degree\\': 312, \\'wind_dir\\': \\'NW\\', \\'pressure_mb\\': 1030.0, \\'pressure_in\\': 30.41, \\'precip_mm\\': 0.53, \\'precip_in\\': 0.02, \\'humidity\\': 97, \\'cloud\\': 100, \\'feelslike_c\\': -2.8, \\'feelslike_f\\': 27.0, \\'windchill_c\\': -2.8, \\'windchill_f\\': 27.0, \\'heatindex_c\\': -0.6, \\'heatindex_f\\': 30.9, \\'dewpoint_c\\': -1.1, \\'dewpoint_f\\': 30.0, \\'vis_km\\': 9.0, \\'vis_miles\\': 5.0, \\'uv\\': 0.2, \\'gust_mph\\': 7.8, \\'gust_kph\\': 12.5}}\"}, {\\'url\\': \\'https://weather.metoffice.gov.uk/forecast/sz252f862\\', \\'content\\': \\'Kastamonu 7 day weather forecast including weather warnings, temperature, rain, wind, visibility, humidity and UV. ... Friday (16 January 2025) Time: 00:00 01:00 02:00 03:00 06:00 09:00 12:00 15:00 18:00 21:00 Weather symbols: Chance of precipitation <5% <5% <5% 10% <5% <5% <5% <5% <5%\\'}]', name='tavily_search_results_json', id='f1abda31-1b2f-4bb9-93ec-1e2499897d3d', tool_call_id='call_9w9l47t5k1h1ZSM5M8Sz3LQ5')]}}, 'thread_id': '33', 'step': 3, 'parents': {}}, created_at='2025-01-16T10:18:31.211704+00:00', parent_config={'configurable': {'thread_id': '33', 'checkpoint_ns': '', 'checkpoint_id': '1efd3f31-5aeb-6da5-8002-7712153df1a4'}}, tasks=(PregelTask(id='02d4a788-db01-09ca-2a73-d93b4139a694', name='llm', path=('__pregel_pull', 'llm'), error=None, interrupts=(), state=None, result={'messages': [AIMessage(content='I have found the current weather information for Kastamonu, Turkey. The temperature is -0.6°C with light sleet conditions. The wind speed is 6.1 km/h from the northwest. The humidity is 97%.', additional_kwargs={'refusal': None}, response_metadata={'token_usage': {'completion_tokens': 51, 'prompt_tokens': 730, 'total_tokens': 781, 'completion_tokens_details': {'accepted_prediction_tokens': 0, 'audio_tokens': 0, 'reasoning_tokens': 0, 'rejected_prediction_tokens': 0}, 'prompt_tokens_details': {'audio_tokens': 0, 'cached_tokens': 0}}, 'model_name': 'gpt-3.5-turbo-0125', 'system_fingerprint': None, 'finish_reason': 'stop', 'logprobs': None}, id='run-5c44bac7-dce0-4116-8f51-eb1bf8b7e7df-0', usage_metadata={'input_tokens': 730, 'output_tokens': 51, 'total_tokens': 781, 'input_token_details': {'audio': 0, 'cache_read': 0}, 'output_token_details': {'audio': 0, 'reasoning': 0}})]}),))\n",
      "--\n",
      "StateSnapshot(values={'messages': [HumanMessage(content='Whats the weather in Ankara?', additional_kwargs={}, response_metadata={}, id='ff0dc778-5113-43ea-ba65-4ecd1c3c6876'), AIMessage(content='', additional_kwargs={'tool_calls': [{'id': 'call_9w9l47t5k1h1ZSM5M8Sz3LQ5', 'function': {'arguments': '{\"query\":\"weather in Ankara\"}', 'name': 'tavily_search_results_json'}, 'type': 'function'}], 'refusal': None}, response_metadata={'token_usage': {'completion_tokens': 21, 'prompt_tokens': 152, 'total_tokens': 173, 'completion_tokens_details': {'accepted_prediction_tokens': 0, 'audio_tokens': 0, 'reasoning_tokens': 0, 'rejected_prediction_tokens': 0}, 'prompt_tokens_details': {'audio_tokens': 0, 'cached_tokens': 0}}, 'model_name': 'gpt-3.5-turbo-0125', 'system_fingerprint': None, 'finish_reason': 'tool_calls', 'logprobs': None}, id='run-87b995d9-94de-4cfa-a54c-72b68a7801a0-0', tool_calls=[{'name': 'tavily_search_results_json', 'args': {'query': 'weather in Kastamonu'}, 'id': 'call_9w9l47t5k1h1ZSM5M8Sz3LQ5', 'type': 'tool_call'}], usage_metadata={'input_tokens': 152, 'output_tokens': 21, 'total_tokens': 173, 'input_token_details': {'audio': 0, 'cache_read': 0}, 'output_token_details': {'audio': 0, 'reasoning': 0}})]}, next=('action',), config={'configurable': {'thread_id': '33', 'checkpoint_ns': '', 'checkpoint_id': '1efd3f31-5aeb-6da5-8002-7712153df1a4'}}, metadata={'source': 'update', 'writes': {'llm': {'messages': [HumanMessage(content='Whats the weather in Ankara?', additional_kwargs={}, response_metadata={}, id='ff0dc778-5113-43ea-ba65-4ecd1c3c6876'), AIMessage(content='', additional_kwargs={'tool_calls': [{'id': 'call_9w9l47t5k1h1ZSM5M8Sz3LQ5', 'function': {'arguments': '{\"query\":\"weather in Ankara\"}', 'name': 'tavily_search_results_json'}, 'type': 'function'}], 'refusal': None}, response_metadata={'token_usage': {'completion_tokens': 21, 'prompt_tokens': 152, 'total_tokens': 173, 'completion_tokens_details': {'accepted_prediction_tokens': 0, 'audio_tokens': 0, 'reasoning_tokens': 0, 'rejected_prediction_tokens': 0}, 'prompt_tokens_details': {'audio_tokens': 0, 'cached_tokens': 0}}, 'model_name': 'gpt-3.5-turbo-0125', 'system_fingerprint': None, 'finish_reason': 'tool_calls', 'logprobs': None}, id='run-87b995d9-94de-4cfa-a54c-72b68a7801a0-0', tool_calls=[{'name': 'tavily_search_results_json', 'args': {'query': 'weather in Kastamonu'}, 'id': 'call_9w9l47t5k1h1ZSM5M8Sz3LQ5', 'type': 'tool_call'}], usage_metadata={'input_tokens': 152, 'output_tokens': 21, 'total_tokens': 173, 'input_token_details': {'audio': 0, 'cache_read': 0}, 'output_token_details': {'audio': 0, 'reasoning': 0}})]}}, 'thread_id': '33', 'step': 2, 'parents': {}}, created_at='2025-01-16T10:17:26.606173+00:00', parent_config={'configurable': {'thread_id': '33', 'checkpoint_ns': '', 'checkpoint_id': '1efd3f10-a0e1-634f-8001-ea2f7bebf18b'}}, tasks=(PregelTask(id='d659259f-7527-18d3-6b4a-d0ef88d97650', name='action', path=('__pregel_pull', 'action'), error=None, interrupts=(), state=None, result={'messages': [ToolMessage(content='[{\\'url\\': \\'https://www.weatherapi.com/\\', \\'content\\': \"{\\'location\\': {\\'name\\': \\'Kastamonu\\', \\'region\\': \\'Kastamonu\\', \\'country\\': \\'Turkey\\', \\'lat\\': 41.3722, \\'lon\\': 33.7711, \\'tz_id\\': \\'Europe/Istanbul\\', \\'localtime_epoch\\': 1737022704, \\'localtime\\': \\'2025-01-16 13:18\\'}, \\'current\\': {\\'last_updated_epoch\\': 1737022500, \\'last_updated\\': \\'2025-01-16 13:15\\', \\'temp_c\\': -0.6, \\'temp_f\\': 30.9, \\'is_day\\': 1, \\'condition\\': {\\'text\\': \\'Light sleet\\', \\'icon\\': \\'//cdn.weatherapi.com/weather/64x64/day/317.png\\', \\'code\\': 1204}, \\'wind_mph\\': 3.8, \\'wind_kph\\': 6.1, \\'wind_degree\\': 312, \\'wind_dir\\': \\'NW\\', \\'pressure_mb\\': 1030.0, \\'pressure_in\\': 30.41, \\'precip_mm\\': 0.53, \\'precip_in\\': 0.02, \\'humidity\\': 97, \\'cloud\\': 100, \\'feelslike_c\\': -2.8, \\'feelslike_f\\': 27.0, \\'windchill_c\\': -2.8, \\'windchill_f\\': 27.0, \\'heatindex_c\\': -0.6, \\'heatindex_f\\': 30.9, \\'dewpoint_c\\': -1.1, \\'dewpoint_f\\': 30.0, \\'vis_km\\': 9.0, \\'vis_miles\\': 5.0, \\'uv\\': 0.2, \\'gust_mph\\': 7.8, \\'gust_kph\\': 12.5}}\"}, {\\'url\\': \\'https://weather.metoffice.gov.uk/forecast/sz252f862\\', \\'content\\': \\'Kastamonu 7 day weather forecast including weather warnings, temperature, rain, wind, visibility, humidity and UV. ... Friday (16 January 2025) Time: 00:00 01:00 02:00 03:00 06:00 09:00 12:00 15:00 18:00 21:00 Weather symbols: Chance of precipitation <5% <5% <5% 10% <5% <5% <5% <5% <5%\\'}]', name='tavily_search_results_json', tool_call_id='call_9w9l47t5k1h1ZSM5M8Sz3LQ5')]}),))\n",
      "--\n",
      "StateSnapshot(values={'messages': [HumanMessage(content='Whats the weather in Ankara?', additional_kwargs={}, response_metadata={}, id='ff0dc778-5113-43ea-ba65-4ecd1c3c6876'), AIMessage(content='', additional_kwargs={'tool_calls': [{'id': 'call_9w9l47t5k1h1ZSM5M8Sz3LQ5', 'function': {'arguments': '{\"query\":\"weather in Ankara\"}', 'name': 'tavily_search_results_json'}, 'type': 'function'}], 'refusal': None}, response_metadata={'token_usage': {'completion_tokens': 21, 'prompt_tokens': 152, 'total_tokens': 173, 'completion_tokens_details': {'accepted_prediction_tokens': 0, 'audio_tokens': 0, 'reasoning_tokens': 0, 'rejected_prediction_tokens': 0}, 'prompt_tokens_details': {'audio_tokens': 0, 'cached_tokens': 0}}, 'model_name': 'gpt-3.5-turbo-0125', 'system_fingerprint': None, 'finish_reason': 'tool_calls', 'logprobs': None}, id='run-87b995d9-94de-4cfa-a54c-72b68a7801a0-0', tool_calls=[{'name': 'tavily_search_results_json', 'args': {'query': 'weather in Ankara'}, 'id': 'call_9w9l47t5k1h1ZSM5M8Sz3LQ5', 'type': 'tool_call'}], usage_metadata={'input_tokens': 152, 'output_tokens': 21, 'total_tokens': 173, 'input_token_details': {'audio': 0, 'cache_read': 0}, 'output_token_details': {'audio': 0, 'reasoning': 0}})]}, next=('action',), config={'configurable': {'thread_id': '33', 'checkpoint_ns': '', 'checkpoint_id': '1efd3f10-a0e1-634f-8001-ea2f7bebf18b'}}, metadata={'source': 'loop', 'writes': {'llm': {'messages': [AIMessage(content='', additional_kwargs={'tool_calls': [{'id': 'call_9w9l47t5k1h1ZSM5M8Sz3LQ5', 'function': {'arguments': '{\"query\":\"weather in Ankara\"}', 'name': 'tavily_search_results_json'}, 'type': 'function'}], 'refusal': None}, response_metadata={'token_usage': {'completion_tokens': 21, 'prompt_tokens': 152, 'total_tokens': 173, 'completion_tokens_details': {'accepted_prediction_tokens': 0, 'audio_tokens': 0, 'reasoning_tokens': 0, 'rejected_prediction_tokens': 0}, 'prompt_tokens_details': {'audio_tokens': 0, 'cached_tokens': 0}}, 'model_name': 'gpt-3.5-turbo-0125', 'system_fingerprint': None, 'finish_reason': 'tool_calls', 'logprobs': None}, id='run-87b995d9-94de-4cfa-a54c-72b68a7801a0-0', tool_calls=[{'name': 'tavily_search_results_json', 'args': {'query': 'weather in Ankara'}, 'id': 'call_9w9l47t5k1h1ZSM5M8Sz3LQ5', 'type': 'tool_call'}], usage_metadata={'input_tokens': 152, 'output_tokens': 21, 'total_tokens': 173, 'input_token_details': {'audio': 0, 'cache_read': 0}, 'output_token_details': {'audio': 0, 'reasoning': 0}})]}}, 'thread_id': '33', 'step': 1, 'parents': {}}, created_at='2025-01-16T10:02:48.104839+00:00', parent_config={'configurable': {'thread_id': '33', 'checkpoint_ns': '', 'checkpoint_id': '1efd3f10-9185-6fd5-8000-f64f93373dbb'}}, tasks=(PregelTask(id='efd64557-c502-101e-8f70-68ddc87908f1', name='action', path=('__pregel_pull', 'action'), error=None, interrupts=(), state=None, result=None),))\n",
      "--\n",
      "StateSnapshot(values={'messages': [HumanMessage(content='Whats the weather in Ankara?', additional_kwargs={}, response_metadata={}, id='ff0dc778-5113-43ea-ba65-4ecd1c3c6876')]}, next=('llm',), config={'configurable': {'thread_id': '33', 'checkpoint_ns': '', 'checkpoint_id': '1efd3f10-9185-6fd5-8000-f64f93373dbb'}}, metadata={'source': 'loop', 'writes': None, 'thread_id': '33', 'step': 0, 'parents': {}}, created_at='2025-01-16T10:02:46.494613+00:00', parent_config={'configurable': {'thread_id': '33', 'checkpoint_ns': '', 'checkpoint_id': '1efd3f10-9114-6a5b-bfff-345f826cca7f'}}, tasks=(PregelTask(id='42261561-7f9d-4fef-dab2-c7a9d16b50a0', name='llm', path=('__pregel_pull', 'llm'), error=None, interrupts=(), state=None, result={'messages': [AIMessage(content='', additional_kwargs={'tool_calls': [{'id': 'call_9w9l47t5k1h1ZSM5M8Sz3LQ5', 'function': {'arguments': '{\"query\":\"weather in Ankara\"}', 'name': 'tavily_search_results_json'}, 'type': 'function'}], 'refusal': None}, response_metadata={'token_usage': {'completion_tokens': 21, 'prompt_tokens': 152, 'total_tokens': 173, 'completion_tokens_details': {'accepted_prediction_tokens': 0, 'audio_tokens': 0, 'reasoning_tokens': 0, 'rejected_prediction_tokens': 0}, 'prompt_tokens_details': {'audio_tokens': 0, 'cached_tokens': 0}}, 'model_name': 'gpt-3.5-turbo-0125', 'system_fingerprint': None, 'finish_reason': 'tool_calls', 'logprobs': None}, id='run-87b995d9-94de-4cfa-a54c-72b68a7801a0-0', tool_calls=[{'name': 'tavily_search_results_json', 'args': {'query': 'weather in Ankara'}, 'id': 'call_9w9l47t5k1h1ZSM5M8Sz3LQ5', 'type': 'tool_call'}], usage_metadata={'input_tokens': 152, 'output_tokens': 21, 'total_tokens': 173, 'input_token_details': {'audio': 0, 'cache_read': 0}, 'output_token_details': {'audio': 0, 'reasoning': 0}})]}),))\n",
      "--\n",
      "StateSnapshot(values={'messages': []}, next=('__start__',), config={'configurable': {'thread_id': '33', 'checkpoint_ns': '', 'checkpoint_id': '1efd3f10-9114-6a5b-bfff-345f826cca7f'}}, metadata={'source': 'input', 'writes': {'__start__': {'messages': [HumanMessage(content='Whats the weather in Ankara?', additional_kwargs={}, response_metadata={})]}}, 'thread_id': '33', 'step': -1, 'parents': {}}, created_at='2025-01-16T10:02:46.448188+00:00', parent_config=None, tasks=(PregelTask(id='b293226b-9915-0ea9-62d4-c5305703076d', name='__start__', path=('__pregel_pull', '__start__'), error=None, interrupts=(), state=None, result={'messages': [HumanMessage(content='Whats the weather in Ankara?', additional_kwargs={}, response_metadata={}, id='ff0dc778-5113-43ea-ba65-4ecd1c3c6876')]}),))\n",
      "--\n"
     ]
    }
   ],
   "source": [
    "states = []\n",
    "for state in abot.graph.get_state_history(thread):\n",
    "    print(state)\n",
    "    print('--')\n",
    "    states.append(state)"
   ]
  },
  {
   "cell_type": "code",
   "execution_count": 79,
   "metadata": {},
   "outputs": [],
   "source": [
    "last_state = states[-4]"
   ]
  },
  {
   "cell_type": "code",
   "execution_count": 80,
   "metadata": {},
   "outputs": [
    {
     "data": {
      "text/plain": [
       "StateSnapshot(values={'messages': [HumanMessage(content='Whats the weather in Ankara?', additional_kwargs={}, response_metadata={}, id='ff0dc778-5113-43ea-ba65-4ecd1c3c6876'), AIMessage(content='', additional_kwargs={'tool_calls': [{'id': 'call_9w9l47t5k1h1ZSM5M8Sz3LQ5', 'function': {'arguments': '{\"query\":\"weather in Ankara\"}', 'name': 'tavily_search_results_json'}, 'type': 'function'}], 'refusal': None}, response_metadata={'token_usage': {'completion_tokens': 21, 'prompt_tokens': 152, 'total_tokens': 173, 'completion_tokens_details': {'accepted_prediction_tokens': 0, 'audio_tokens': 0, 'reasoning_tokens': 0, 'rejected_prediction_tokens': 0}, 'prompt_tokens_details': {'audio_tokens': 0, 'cached_tokens': 0}}, 'model_name': 'gpt-3.5-turbo-0125', 'system_fingerprint': None, 'finish_reason': 'tool_calls', 'logprobs': None}, id='run-87b995d9-94de-4cfa-a54c-72b68a7801a0-0', tool_calls=[{'name': 'tavily_search_results_json', 'args': {'query': 'weather in Kastamonu'}, 'id': 'call_9w9l47t5k1h1ZSM5M8Sz3LQ5', 'type': 'tool_call'}], usage_metadata={'input_tokens': 152, 'output_tokens': 21, 'total_tokens': 173, 'input_token_details': {'audio': 0, 'cache_read': 0}, 'output_token_details': {'audio': 0, 'reasoning': 0}})]}, next=('action',), config={'configurable': {'thread_id': '33', 'checkpoint_ns': '', 'checkpoint_id': '1efd3f31-5aeb-6da5-8002-7712153df1a4'}}, metadata={'source': 'update', 'writes': {'llm': {'messages': [HumanMessage(content='Whats the weather in Ankara?', additional_kwargs={}, response_metadata={}, id='ff0dc778-5113-43ea-ba65-4ecd1c3c6876'), AIMessage(content='', additional_kwargs={'tool_calls': [{'id': 'call_9w9l47t5k1h1ZSM5M8Sz3LQ5', 'function': {'arguments': '{\"query\":\"weather in Ankara\"}', 'name': 'tavily_search_results_json'}, 'type': 'function'}], 'refusal': None}, response_metadata={'token_usage': {'completion_tokens': 21, 'prompt_tokens': 152, 'total_tokens': 173, 'completion_tokens_details': {'accepted_prediction_tokens': 0, 'audio_tokens': 0, 'reasoning_tokens': 0, 'rejected_prediction_tokens': 0}, 'prompt_tokens_details': {'audio_tokens': 0, 'cached_tokens': 0}}, 'model_name': 'gpt-3.5-turbo-0125', 'system_fingerprint': None, 'finish_reason': 'tool_calls', 'logprobs': None}, id='run-87b995d9-94de-4cfa-a54c-72b68a7801a0-0', tool_calls=[{'name': 'tavily_search_results_json', 'args': {'query': 'weather in Kastamonu'}, 'id': 'call_9w9l47t5k1h1ZSM5M8Sz3LQ5', 'type': 'tool_call'}], usage_metadata={'input_tokens': 152, 'output_tokens': 21, 'total_tokens': 173, 'input_token_details': {'audio': 0, 'cache_read': 0}, 'output_token_details': {'audio': 0, 'reasoning': 0}})]}}, 'thread_id': '33', 'step': 2, 'parents': {}}, created_at='2025-01-16T10:17:26.606173+00:00', parent_config={'configurable': {'thread_id': '33', 'checkpoint_ns': '', 'checkpoint_id': '1efd3f10-a0e1-634f-8001-ea2f7bebf18b'}}, tasks=(PregelTask(id='d659259f-7527-18d3-6b4a-d0ef88d97650', name='action', path=('__pregel_pull', 'action'), error=None, interrupts=(), state=None, result={'messages': [ToolMessage(content='[{\\'url\\': \\'https://www.weatherapi.com/\\', \\'content\\': \"{\\'location\\': {\\'name\\': \\'Kastamonu\\', \\'region\\': \\'Kastamonu\\', \\'country\\': \\'Turkey\\', \\'lat\\': 41.3722, \\'lon\\': 33.7711, \\'tz_id\\': \\'Europe/Istanbul\\', \\'localtime_epoch\\': 1737022704, \\'localtime\\': \\'2025-01-16 13:18\\'}, \\'current\\': {\\'last_updated_epoch\\': 1737022500, \\'last_updated\\': \\'2025-01-16 13:15\\', \\'temp_c\\': -0.6, \\'temp_f\\': 30.9, \\'is_day\\': 1, \\'condition\\': {\\'text\\': \\'Light sleet\\', \\'icon\\': \\'//cdn.weatherapi.com/weather/64x64/day/317.png\\', \\'code\\': 1204}, \\'wind_mph\\': 3.8, \\'wind_kph\\': 6.1, \\'wind_degree\\': 312, \\'wind_dir\\': \\'NW\\', \\'pressure_mb\\': 1030.0, \\'pressure_in\\': 30.41, \\'precip_mm\\': 0.53, \\'precip_in\\': 0.02, \\'humidity\\': 97, \\'cloud\\': 100, \\'feelslike_c\\': -2.8, \\'feelslike_f\\': 27.0, \\'windchill_c\\': -2.8, \\'windchill_f\\': 27.0, \\'heatindex_c\\': -0.6, \\'heatindex_f\\': 30.9, \\'dewpoint_c\\': -1.1, \\'dewpoint_f\\': 30.0, \\'vis_km\\': 9.0, \\'vis_miles\\': 5.0, \\'uv\\': 0.2, \\'gust_mph\\': 7.8, \\'gust_kph\\': 12.5}}\"}, {\\'url\\': \\'https://weather.metoffice.gov.uk/forecast/sz252f862\\', \\'content\\': \\'Kastamonu 7 day weather forecast including weather warnings, temperature, rain, wind, visibility, humidity and UV. ... Friday (16 January 2025) Time: 00:00 01:00 02:00 03:00 06:00 09:00 12:00 15:00 18:00 21:00 Weather symbols: Chance of precipitation <5% <5% <5% 10% <5% <5% <5% <5% <5%\\'}]', name='tavily_search_results_json', tool_call_id='call_9w9l47t5k1h1ZSM5M8Sz3LQ5')]}),))"
      ]
     },
     "execution_count": 80,
     "metadata": {},
     "output_type": "execute_result"
    }
   ],
   "source": [
    "last_state"
   ]
  },
  {
   "cell_type": "code",
   "execution_count": 81,
   "metadata": {},
   "outputs": [
    {
     "name": "stdout",
     "output_type": "stream",
     "text": [
      "Calling: {'name': 'tavily_search_results_json', 'args': {'query': 'weather in Kastamonu'}, 'id': 'call_9w9l47t5k1h1ZSM5M8Sz3LQ5', 'type': 'tool_call'}\n",
      "Back to the model!\n",
      "{'messages': [ToolMessage(content='[{\\'url\\': \\'https://www.weatherapi.com/\\', \\'content\\': \"{\\'location\\': {\\'name\\': \\'Kastamonu\\', \\'region\\': \\'Kastamonu\\', \\'country\\': \\'Turkey\\', \\'lat\\': 41.3722, \\'lon\\': 33.7711, \\'tz_id\\': \\'Europe/Istanbul\\', \\'localtime_epoch\\': 1737027775, \\'localtime\\': \\'2025-01-16 14:42\\'}, \\'current\\': {\\'last_updated_epoch\\': 1737027000, \\'last_updated\\': \\'2025-01-16 14:30\\', \\'temp_c\\': -0.9, \\'temp_f\\': 30.4, \\'is_day\\': 1, \\'condition\\': {\\'text\\': \\'Light sleet\\', \\'icon\\': \\'//cdn.weatherapi.com/weather/64x64/day/317.png\\', \\'code\\': 1204}, \\'wind_mph\\': 4.0, \\'wind_kph\\': 6.5, \\'wind_degree\\': 313, \\'wind_dir\\': \\'NW\\', \\'pressure_mb\\': 1030.0, \\'pressure_in\\': 30.43, \\'precip_mm\\': 0.56, \\'precip_in\\': 0.02, \\'humidity\\': 97, \\'cloud\\': 100, \\'feelslike_c\\': -3.3, \\'feelslike_f\\': 26.1, \\'windchill_c\\': -3.3, \\'windchill_f\\': 26.1, \\'heatindex_c\\': -0.9, \\'heatindex_f\\': 30.4, \\'dewpoint_c\\': -1.4, \\'dewpoint_f\\': 29.6, \\'vis_km\\': 9.0, \\'vis_miles\\': 5.0, \\'uv\\': 0.2, \\'gust_mph\\': 8.3, \\'gust_kph\\': 13.3}}\"}, {\\'url\\': \\'https://weather.metoffice.gov.uk/forecast/sz252f862\\', \\'content\\': \\'Kastamonu 7 day weather forecast including weather warnings, temperature, rain, wind, visibility, humidity and UV. ... Friday (16 January 2025) Time: 00:00 01:00 02:00 03:00 06:00 09:00 12:00 15:00 18:00 21:00 Weather symbols: Chance of precipitation <5% <5% <5% 10% <5% <5% <5% <5% <5%\\'}]', name='tavily_search_results_json', id='3a9eb851-2f6d-4f6c-a45e-78caa06cf523', tool_call_id='call_9w9l47t5k1h1ZSM5M8Sz3LQ5')]}\n",
      "{'messages': [AIMessage(content='I found information on the weather in Kastamonu, Turkey. The current weather is light sleet with a temperature of -0.9°C (30.4°F). The wind speed is 6.5 km/h coming from the northwest. The humidity is 97%, and the visibility is 9.0 km.', additional_kwargs={'refusal': None}, response_metadata={'token_usage': {'completion_tokens': 69, 'prompt_tokens': 730, 'total_tokens': 799, 'completion_tokens_details': {'accepted_prediction_tokens': 0, 'audio_tokens': 0, 'reasoning_tokens': 0, 'rejected_prediction_tokens': 0}, 'prompt_tokens_details': {'audio_tokens': 0, 'cached_tokens': 0}}, 'model_name': 'gpt-3.5-turbo-0125', 'system_fingerprint': None, 'finish_reason': 'stop', 'logprobs': None}, id='run-e80c8b2b-cf37-471b-b521-53dd2a9cf52e-0', usage_metadata={'input_tokens': 730, 'output_tokens': 69, 'total_tokens': 799, 'input_token_details': {'audio': 0, 'cache_read': 0}, 'output_token_details': {'audio': 0, 'reasoning': 0}})]}\n"
     ]
    }
   ],
   "source": [
    "for event in abot.graph.stream(None, last_state.config):\n",
    "    for k, v in event.items():\n",
    "        print(v)"
   ]
  },
  {
   "cell_type": "markdown",
   "metadata": {},
   "source": [
    "### Go back in time and edit"
   ]
  },
  {
   "cell_type": "code",
   "execution_count": 82,
   "metadata": {},
   "outputs": [
    {
     "data": {
      "text/plain": [
       "StateSnapshot(values={'messages': [HumanMessage(content='Whats the weather in Ankara?', additional_kwargs={}, response_metadata={}, id='ff0dc778-5113-43ea-ba65-4ecd1c3c6876'), AIMessage(content='', additional_kwargs={'tool_calls': [{'id': 'call_9w9l47t5k1h1ZSM5M8Sz3LQ5', 'function': {'arguments': '{\"query\":\"weather in Ankara\"}', 'name': 'tavily_search_results_json'}, 'type': 'function'}], 'refusal': None}, response_metadata={'token_usage': {'completion_tokens': 21, 'prompt_tokens': 152, 'total_tokens': 173, 'completion_tokens_details': {'accepted_prediction_tokens': 0, 'audio_tokens': 0, 'reasoning_tokens': 0, 'rejected_prediction_tokens': 0}, 'prompt_tokens_details': {'audio_tokens': 0, 'cached_tokens': 0}}, 'model_name': 'gpt-3.5-turbo-0125', 'system_fingerprint': None, 'finish_reason': 'tool_calls', 'logprobs': None}, id='run-87b995d9-94de-4cfa-a54c-72b68a7801a0-0', tool_calls=[{'name': 'tavily_search_results_json', 'args': {'query': 'weather in Kastamonu'}, 'id': 'call_9w9l47t5k1h1ZSM5M8Sz3LQ5', 'type': 'tool_call'}], usage_metadata={'input_tokens': 152, 'output_tokens': 21, 'total_tokens': 173, 'input_token_details': {'audio': 0, 'cache_read': 0}, 'output_token_details': {'audio': 0, 'reasoning': 0}})]}, next=('action',), config={'configurable': {'thread_id': '33', 'checkpoint_ns': '', 'checkpoint_id': '1efd3f31-5aeb-6da5-8002-7712153df1a4'}}, metadata={'source': 'update', 'writes': {'llm': {'messages': [HumanMessage(content='Whats the weather in Ankara?', additional_kwargs={}, response_metadata={}, id='ff0dc778-5113-43ea-ba65-4ecd1c3c6876'), AIMessage(content='', additional_kwargs={'tool_calls': [{'id': 'call_9w9l47t5k1h1ZSM5M8Sz3LQ5', 'function': {'arguments': '{\"query\":\"weather in Ankara\"}', 'name': 'tavily_search_results_json'}, 'type': 'function'}], 'refusal': None}, response_metadata={'token_usage': {'completion_tokens': 21, 'prompt_tokens': 152, 'total_tokens': 173, 'completion_tokens_details': {'accepted_prediction_tokens': 0, 'audio_tokens': 0, 'reasoning_tokens': 0, 'rejected_prediction_tokens': 0}, 'prompt_tokens_details': {'audio_tokens': 0, 'cached_tokens': 0}}, 'model_name': 'gpt-3.5-turbo-0125', 'system_fingerprint': None, 'finish_reason': 'tool_calls', 'logprobs': None}, id='run-87b995d9-94de-4cfa-a54c-72b68a7801a0-0', tool_calls=[{'name': 'tavily_search_results_json', 'args': {'query': 'weather in Kastamonu'}, 'id': 'call_9w9l47t5k1h1ZSM5M8Sz3LQ5', 'type': 'tool_call'}], usage_metadata={'input_tokens': 152, 'output_tokens': 21, 'total_tokens': 173, 'input_token_details': {'audio': 0, 'cache_read': 0}, 'output_token_details': {'audio': 0, 'reasoning': 0}})]}}, 'thread_id': '33', 'step': 2, 'parents': {}}, created_at='2025-01-16T10:17:26.606173+00:00', parent_config={'configurable': {'thread_id': '33', 'checkpoint_ns': '', 'checkpoint_id': '1efd3f10-a0e1-634f-8001-ea2f7bebf18b'}}, tasks=(PregelTask(id='d659259f-7527-18d3-6b4a-d0ef88d97650', name='action', path=('__pregel_pull', 'action'), error=None, interrupts=(), state=None, result={'messages': [ToolMessage(content='[{\\'url\\': \\'https://www.weatherapi.com/\\', \\'content\\': \"{\\'location\\': {\\'name\\': \\'Kastamonu\\', \\'region\\': \\'Kastamonu\\', \\'country\\': \\'Turkey\\', \\'lat\\': 41.3722, \\'lon\\': 33.7711, \\'tz_id\\': \\'Europe/Istanbul\\', \\'localtime_epoch\\': 1737022704, \\'localtime\\': \\'2025-01-16 13:18\\'}, \\'current\\': {\\'last_updated_epoch\\': 1737022500, \\'last_updated\\': \\'2025-01-16 13:15\\', \\'temp_c\\': -0.6, \\'temp_f\\': 30.9, \\'is_day\\': 1, \\'condition\\': {\\'text\\': \\'Light sleet\\', \\'icon\\': \\'//cdn.weatherapi.com/weather/64x64/day/317.png\\', \\'code\\': 1204}, \\'wind_mph\\': 3.8, \\'wind_kph\\': 6.1, \\'wind_degree\\': 312, \\'wind_dir\\': \\'NW\\', \\'pressure_mb\\': 1030.0, \\'pressure_in\\': 30.41, \\'precip_mm\\': 0.53, \\'precip_in\\': 0.02, \\'humidity\\': 97, \\'cloud\\': 100, \\'feelslike_c\\': -2.8, \\'feelslike_f\\': 27.0, \\'windchill_c\\': -2.8, \\'windchill_f\\': 27.0, \\'heatindex_c\\': -0.6, \\'heatindex_f\\': 30.9, \\'dewpoint_c\\': -1.1, \\'dewpoint_f\\': 30.0, \\'vis_km\\': 9.0, \\'vis_miles\\': 5.0, \\'uv\\': 0.2, \\'gust_mph\\': 7.8, \\'gust_kph\\': 12.5}}\"}, {\\'url\\': \\'https://weather.metoffice.gov.uk/forecast/sz252f862\\', \\'content\\': \\'Kastamonu 7 day weather forecast including weather warnings, temperature, rain, wind, visibility, humidity and UV. ... Friday (16 January 2025) Time: 00:00 01:00 02:00 03:00 06:00 09:00 12:00 15:00 18:00 21:00 Weather symbols: Chance of precipitation <5% <5% <5% 10% <5% <5% <5% <5% <5%\\'}]', name='tavily_search_results_json', tool_call_id='call_9w9l47t5k1h1ZSM5M8Sz3LQ5')]}),))"
      ]
     },
     "execution_count": 82,
     "metadata": {},
     "output_type": "execute_result"
    }
   ],
   "source": [
    "last_state"
   ]
  },
  {
   "cell_type": "code",
   "execution_count": 83,
   "metadata": {},
   "outputs": [],
   "source": [
    "_id = last_state.values['messages'][-1].tool_calls[0]['id']\n",
    "last_state.values['messages'][-1].tool_calls = [{'name': 'tavily_search_results_json',\n",
    "    'args': {'query': 'current weather in Ankara, accuweather'},\n",
    "    'id': _id}]"
   ]
  },
  {
   "cell_type": "code",
   "execution_count": 84,
   "metadata": {},
   "outputs": [],
   "source": [
    "branch_state = abot.graph.update_state(last_state.config, last_state.values)"
   ]
  },
  {
   "cell_type": "code",
   "execution_count": 85,
   "metadata": {},
   "outputs": [
    {
     "name": "stdout",
     "output_type": "stream",
     "text": [
      "Calling: {'name': 'tavily_search_results_json', 'args': {'query': 'current weather in Ankara, accuweather'}, 'id': 'call_9w9l47t5k1h1ZSM5M8Sz3LQ5', 'type': 'tool_call'}\n",
      "Back to the model!\n",
      "{'messages': [ToolMessage(content='[{\\'url\\': \\'https://www.weatherapi.com/\\', \\'content\\': \"{\\'location\\': {\\'name\\': \\'Ankara\\', \\'region\\': \\'Ankara\\', \\'country\\': \\'Turkey\\', \\'lat\\': 39.9272, \\'lon\\': 32.8644, \\'tz_id\\': \\'Europe/Istanbul\\', \\'localtime_epoch\\': 1737025623, \\'localtime\\': \\'2025-01-16 14:07\\'}, \\'current\\': {\\'last_updated_epoch\\': 1737025200, \\'last_updated\\': \\'2025-01-16 14:00\\', \\'temp_c\\': 8.3, \\'temp_f\\': 46.9, \\'is_day\\': 1, \\'condition\\': {\\'text\\': \\'Partly cloudy\\', \\'icon\\': \\'//cdn.weatherapi.com/weather/64x64/day/116.png\\', \\'code\\': 1003}, \\'wind_mph\\': 8.9, \\'wind_kph\\': 14.4, \\'wind_degree\\': 286, \\'wind_dir\\': \\'WNW\\', \\'pressure_mb\\': 1027.0, \\'pressure_in\\': 30.33, \\'precip_mm\\': 0.01, \\'precip_in\\': 0.0, \\'humidity\\': 76, \\'cloud\\': 75, \\'feelslike_c\\': 5.9, \\'feelslike_f\\': 42.6, \\'windchill_c\\': 5.6, \\'windchill_f\\': 42.1, \\'heatindex_c\\': 8.1, \\'heatindex_f\\': 46.5, \\'dewpoint_c\\': -0.6, \\'dewpoint_f\\': 30.9, \\'vis_km\\': 10.0, \\'vis_miles\\': 6.0, \\'uv\\': 0.9, \\'gust_mph\\': 10.4, \\'gust_kph\\': 16.7}}\"}, {\\'url\\': \\'https://www.easeweather.com/europe/turkey/ankara/january\\', \\'content\\': \\'Weather in Ankara in January 2025 - Detailed Forecast Weather in Ankara for January 2025 Your guide to Ankara weather in January - trends and predictions With an average of 4 snowy days, Ankara usually enjoys a light touch of snow in January. According to Ankara snow forecast for January 2025, 3 snowy days are expected until the end of the month. Expect cooler weather in the next days in Ankara with the forecast suggesting a temperature of 6.1\\\\xa0°C, lower than the historical average. Ankara in January average weather Temperatures trend during January in Ankara Will it snow in Ankara in January 2025? Ankara snow forecast January 2025 Explore the daily rainfall trends and prepare for Ankaras January weather\\\\xa0💧\\'}]', name='tavily_search_results_json', id='96523bea-48cf-47a2-aca4-84e439ba4767', tool_call_id='call_9w9l47t5k1h1ZSM5M8Sz3LQ5')]}\n",
      "{'messages': [AIMessage(content='The current weather in Ankara is as follows:\\n- Temperature: 8.3°C (46.9°F)\\n- Condition: Partly cloudy\\n- Wind Speed: 14.4 km/h (8.9 mph)\\n- Humidity: 76%\\n- Visibility: 10.0 km (6.0 miles)\\n- UV Index: 0.9\\n\\nIf you need more detailed information or forecasts, please let me know!', additional_kwargs={'refusal': None}, response_metadata={'token_usage': {'completion_tokens': 92, 'prompt_tokens': 778, 'total_tokens': 870, 'completion_tokens_details': {'accepted_prediction_tokens': 0, 'audio_tokens': 0, 'reasoning_tokens': 0, 'rejected_prediction_tokens': 0}, 'prompt_tokens_details': {'audio_tokens': 0, 'cached_tokens': 0}}, 'model_name': 'gpt-3.5-turbo-0125', 'system_fingerprint': None, 'finish_reason': 'stop', 'logprobs': None}, id='run-831dea6b-39e0-4c5c-bc88-7306ebe36ef8-0', usage_metadata={'input_tokens': 778, 'output_tokens': 92, 'total_tokens': 870, 'input_token_details': {'audio': 0, 'cache_read': 0}, 'output_token_details': {'audio': 0, 'reasoning': 0}})]}\n"
     ]
    }
   ],
   "source": [
    "for event in abot.graph.stream(None, branch_state):\n",
    "    for k, v in event.items():\n",
    "        if k != \"__end__\":\n",
    "            print(v)"
   ]
  },
  {
   "cell_type": "markdown",
   "metadata": {},
   "source": [
    "## Add message to a state at a given time"
   ]
  },
  {
   "cell_type": "code",
   "execution_count": 86,
   "metadata": {},
   "outputs": [
    {
     "data": {
      "text/plain": [
       "StateSnapshot(values={'messages': [HumanMessage(content='Whats the weather in Ankara?', additional_kwargs={}, response_metadata={}, id='ff0dc778-5113-43ea-ba65-4ecd1c3c6876'), AIMessage(content='', additional_kwargs={'tool_calls': [{'id': 'call_9w9l47t5k1h1ZSM5M8Sz3LQ5', 'function': {'arguments': '{\"query\":\"weather in Ankara\"}', 'name': 'tavily_search_results_json'}, 'type': 'function'}], 'refusal': None}, response_metadata={'token_usage': {'completion_tokens': 21, 'prompt_tokens': 152, 'total_tokens': 173, 'completion_tokens_details': {'accepted_prediction_tokens': 0, 'audio_tokens': 0, 'reasoning_tokens': 0, 'rejected_prediction_tokens': 0}, 'prompt_tokens_details': {'audio_tokens': 0, 'cached_tokens': 0}}, 'model_name': 'gpt-3.5-turbo-0125', 'system_fingerprint': None, 'finish_reason': 'tool_calls', 'logprobs': None}, id='run-87b995d9-94de-4cfa-a54c-72b68a7801a0-0', tool_calls=[{'name': 'tavily_search_results_json', 'args': {'query': 'current weather in Ankara, accuweather'}, 'id': 'call_9w9l47t5k1h1ZSM5M8Sz3LQ5'}], usage_metadata={'input_tokens': 152, 'output_tokens': 21, 'total_tokens': 173, 'input_token_details': {'audio': 0, 'cache_read': 0}, 'output_token_details': {'audio': 0, 'reasoning': 0}})]}, next=('action',), config={'configurable': {'thread_id': '33', 'checkpoint_ns': '', 'checkpoint_id': '1efd3f31-5aeb-6da5-8002-7712153df1a4'}}, metadata={'source': 'update', 'writes': {'llm': {'messages': [HumanMessage(content='Whats the weather in Ankara?', additional_kwargs={}, response_metadata={}, id='ff0dc778-5113-43ea-ba65-4ecd1c3c6876'), AIMessage(content='', additional_kwargs={'tool_calls': [{'id': 'call_9w9l47t5k1h1ZSM5M8Sz3LQ5', 'function': {'arguments': '{\"query\":\"weather in Ankara\"}', 'name': 'tavily_search_results_json'}, 'type': 'function'}], 'refusal': None}, response_metadata={'token_usage': {'completion_tokens': 21, 'prompt_tokens': 152, 'total_tokens': 173, 'completion_tokens_details': {'accepted_prediction_tokens': 0, 'audio_tokens': 0, 'reasoning_tokens': 0, 'rejected_prediction_tokens': 0}, 'prompt_tokens_details': {'audio_tokens': 0, 'cached_tokens': 0}}, 'model_name': 'gpt-3.5-turbo-0125', 'system_fingerprint': None, 'finish_reason': 'tool_calls', 'logprobs': None}, id='run-87b995d9-94de-4cfa-a54c-72b68a7801a0-0', tool_calls=[{'name': 'tavily_search_results_json', 'args': {'query': 'weather in Kastamonu'}, 'id': 'call_9w9l47t5k1h1ZSM5M8Sz3LQ5', 'type': 'tool_call'}], usage_metadata={'input_tokens': 152, 'output_tokens': 21, 'total_tokens': 173, 'input_token_details': {'audio': 0, 'cache_read': 0}, 'output_token_details': {'audio': 0, 'reasoning': 0}})]}}, 'thread_id': '33', 'step': 2, 'parents': {}}, created_at='2025-01-16T10:17:26.606173+00:00', parent_config={'configurable': {'thread_id': '33', 'checkpoint_ns': '', 'checkpoint_id': '1efd3f10-a0e1-634f-8001-ea2f7bebf18b'}}, tasks=(PregelTask(id='d659259f-7527-18d3-6b4a-d0ef88d97650', name='action', path=('__pregel_pull', 'action'), error=None, interrupts=(), state=None, result={'messages': [ToolMessage(content='[{\\'url\\': \\'https://www.weatherapi.com/\\', \\'content\\': \"{\\'location\\': {\\'name\\': \\'Kastamonu\\', \\'region\\': \\'Kastamonu\\', \\'country\\': \\'Turkey\\', \\'lat\\': 41.3722, \\'lon\\': 33.7711, \\'tz_id\\': \\'Europe/Istanbul\\', \\'localtime_epoch\\': 1737022704, \\'localtime\\': \\'2025-01-16 13:18\\'}, \\'current\\': {\\'last_updated_epoch\\': 1737022500, \\'last_updated\\': \\'2025-01-16 13:15\\', \\'temp_c\\': -0.6, \\'temp_f\\': 30.9, \\'is_day\\': 1, \\'condition\\': {\\'text\\': \\'Light sleet\\', \\'icon\\': \\'//cdn.weatherapi.com/weather/64x64/day/317.png\\', \\'code\\': 1204}, \\'wind_mph\\': 3.8, \\'wind_kph\\': 6.1, \\'wind_degree\\': 312, \\'wind_dir\\': \\'NW\\', \\'pressure_mb\\': 1030.0, \\'pressure_in\\': 30.41, \\'precip_mm\\': 0.53, \\'precip_in\\': 0.02, \\'humidity\\': 97, \\'cloud\\': 100, \\'feelslike_c\\': -2.8, \\'feelslike_f\\': 27.0, \\'windchill_c\\': -2.8, \\'windchill_f\\': 27.0, \\'heatindex_c\\': -0.6, \\'heatindex_f\\': 30.9, \\'dewpoint_c\\': -1.1, \\'dewpoint_f\\': 30.0, \\'vis_km\\': 9.0, \\'vis_miles\\': 5.0, \\'uv\\': 0.2, \\'gust_mph\\': 7.8, \\'gust_kph\\': 12.5}}\"}, {\\'url\\': \\'https://weather.metoffice.gov.uk/forecast/sz252f862\\', \\'content\\': \\'Kastamonu 7 day weather forecast including weather warnings, temperature, rain, wind, visibility, humidity and UV. ... Friday (16 January 2025) Time: 00:00 01:00 02:00 03:00 06:00 09:00 12:00 15:00 18:00 21:00 Weather symbols: Chance of precipitation <5% <5% <5% 10% <5% <5% <5% <5% <5%\\'}]', name='tavily_search_results_json', tool_call_id='call_9w9l47t5k1h1ZSM5M8Sz3LQ5')]}),))"
      ]
     },
     "execution_count": 86,
     "metadata": {},
     "output_type": "execute_result"
    }
   ],
   "source": [
    "last_state"
   ]
  },
  {
   "cell_type": "code",
   "execution_count": 87,
   "metadata": {},
   "outputs": [],
   "source": [
    "_id = last_state.values['messages'][-1].tool_calls[0]['id']"
   ]
  },
  {
   "cell_type": "code",
   "execution_count": 88,
   "metadata": {},
   "outputs": [],
   "source": [
    "state_update = {\"messages\": [ToolMessage(\n",
    "    tool_call_id=_id,\n",
    "    name=\"tavily_search_results_json\",\n",
    "    content=\"54 degree celcius\",\n",
    ")]}"
   ]
  },
  {
   "cell_type": "code",
   "execution_count": 89,
   "metadata": {},
   "outputs": [],
   "source": [
    "branch_and_add = abot.graph.update_state(\n",
    "    last_state.config, \n",
    "    state_update, \n",
    "    as_node=\"action\")"
   ]
  },
  {
   "cell_type": "code",
   "execution_count": 91,
   "metadata": {},
   "outputs": [
    {
     "name": "stdout",
     "output_type": "stream",
     "text": [
      "{'messages': [AIMessage(content='The current weather in Ankara is 54 degrees Celsius.', additional_kwargs={'refusal': None}, response_metadata={'token_usage': {'completion_tokens': 13, 'prompt_tokens': 192, 'total_tokens': 205, 'completion_tokens_details': {'accepted_prediction_tokens': 0, 'audio_tokens': 0, 'reasoning_tokens': 0, 'rejected_prediction_tokens': 0}, 'prompt_tokens_details': {'audio_tokens': 0, 'cached_tokens': 0}}, 'model_name': 'gpt-3.5-turbo-0125', 'system_fingerprint': None, 'finish_reason': 'stop', 'logprobs': None}, id='run-3fcea1bd-5160-4456-8a83-bd4cb04823a8-0', usage_metadata={'input_tokens': 192, 'output_tokens': 13, 'total_tokens': 205, 'input_token_details': {'audio': 0, 'cache_read': 0}, 'output_token_details': {'audio': 0, 'reasoning': 0}})]}\n"
     ]
    }
   ],
   "source": [
    "for event in abot.graph.stream(None, branch_and_add):\n",
    "    for k, v in event.items():\n",
    "        print(v)"
   ]
  },
  {
   "cell_type": "code",
   "execution_count": null,
   "metadata": {},
   "outputs": [],
   "source": []
  }
 ],
 "metadata": {
  "kernelspec": {
   "display_name": "agenticai_stable",
   "language": "python",
   "name": "python3"
  },
  "language_info": {
   "codemirror_mode": {
    "name": "ipython",
    "version": 3
   },
   "file_extension": ".py",
   "mimetype": "text/x-python",
   "name": "python",
   "nbconvert_exporter": "python",
   "pygments_lexer": "ipython3",
   "version": "3.9.21"
  }
 },
 "nbformat": 4,
 "nbformat_minor": 2
}
